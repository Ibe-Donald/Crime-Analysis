{
  "nbformat": 4,
  "nbformat_minor": 0,
  "metadata": {
    "colab": {
      "provenance": []
    },
    "kernelspec": {
      "name": "python3",
      "display_name": "Python 3"
    },
    "language_info": {
      "name": "python"
    }
  },
  "cells": [
    {
      "cell_type": "code",
      "execution_count": null,
      "metadata": {
        "id": "A4gNXlM96bO0"
      },
      "outputs": [],
      "source": [
        "import pandas as pd\n",
        "import seaborn as sns\n",
        "import matplotlib.pyplot as plt\n",
        "%matplotlib inline"
      ]
    },
    {
      "cell_type": "code",
      "source": [
        "# to import the dataset\n",
        "df1 = pd.read_csv(\"/content/20122013.csv\")\n",
        "df2 = pd.read_csv(\"/content/20132014.csv\")\n",
        "df3 = pd.read_csv(\"/content/20142015.csv\")\n",
        "df4 = pd.read_csv(\"/content/20152016.csv\")\n",
        "df5 = pd.read_csv(\"/content/20162017.csv\")\n",
        "df6 = pd.read_csv(\"/content/20172018.csv\")\n",
        "df7 = pd.read_csv(\"/content/20182019.csv\")\n",
        "df8 = pd.read_csv(\"/content/20192020.csv\")\n",
        "df9 = pd.read_csv(\"/content/20202021.csv\")\n",
        "df10 = pd.read_csv(\"/content/20212022.csv\")\n",
        "df11 = pd.read_csv(\"/content/20222023.csv\")\n",
        "df12 = pd.read_csv(\"/content/20232024.csv\", encoding = \"latin-1\")"
      ],
      "metadata": {
        "id": "bKX83DPS7Hac"
      },
      "execution_count": null,
      "outputs": []
    },
    {
      "cell_type": "markdown",
      "source": [
        "**DATA PREPROCESSING**"
      ],
      "metadata": {
        "id": "quNLo8YJ8Tc3"
      }
    },
    {
      "cell_type": "code",
      "source": [
        "#merging all datasets together\n",
        "df = pd.concat([df1,df2,df3,df4,df5,df6,df7,df8,df9,df10,df11,df12])"
      ],
      "metadata": {
        "id": "h_BuTJox7MGn"
      },
      "execution_count": null,
      "outputs": []
    },
    {
      "cell_type": "code",
      "source": [
        "df.shape"
      ],
      "metadata": {
        "colab": {
          "base_uri": "https://localhost:8080/"
        },
        "id": "jO39L67q7Wa1",
        "outputId": "0ff11588-1005-4dd1-a6ee-ff9ea2dfe203"
      },
      "execution_count": null,
      "outputs": [
        {
          "output_type": "execute_result",
          "data": {
            "text/plain": [
              "(258905, 8)"
            ]
          },
          "metadata": {},
          "execution_count": 52
        }
      ]
    },
    {
      "cell_type": "code",
      "source": [
        "df.columns"
      ],
      "metadata": {
        "colab": {
          "base_uri": "https://localhost:8080/"
        },
        "id": "P6eqEr5c7aXY",
        "outputId": "b433e34d-b36e-4b54-dc33-e21af77887ed"
      },
      "execution_count": null,
      "outputs": [
        {
          "output_type": "execute_result",
          "data": {
            "text/plain": [
              "Index(['Financial_Year', 'Financial_Quarter', 'Force_Name',\n",
              "       'Offence_Description', 'Offence_Group', 'Offence_Subgroup',\n",
              "       'Offence_Code', 'Number_of_Offences'],\n",
              "      dtype='object')"
            ]
          },
          "metadata": {},
          "execution_count": 53
        }
      ]
    },
    {
      "cell_type": "code",
      "source": [
        "df.info()\n",
        "#provides information"
      ],
      "metadata": {
        "colab": {
          "base_uri": "https://localhost:8080/"
        },
        "id": "yQQMFYoc7eoa",
        "outputId": "09e6d911-7e4c-4b09-9baf-ad3e3c26d7a7"
      },
      "execution_count": null,
      "outputs": [
        {
          "output_type": "stream",
          "name": "stdout",
          "text": [
            "<class 'pandas.core.frame.DataFrame'>\n",
            "Int64Index: 258905 entries, 0 to 6382\n",
            "Data columns (total 8 columns):\n",
            " #   Column               Non-Null Count   Dtype \n",
            "---  ------               --------------   ----- \n",
            " 0   Financial_Year       258905 non-null  object\n",
            " 1   Financial_Quarter    258905 non-null  int64 \n",
            " 2   Force_Name           258905 non-null  object\n",
            " 3   Offence_Description  258905 non-null  object\n",
            " 4   Offence_Group        258905 non-null  object\n",
            " 5   Offence_Subgroup     258905 non-null  object\n",
            " 6   Offence_Code         258905 non-null  object\n",
            " 7   Number_of_Offences   258905 non-null  int64 \n",
            "dtypes: int64(2), object(6)\n",
            "memory usage: 17.8+ MB\n"
          ]
        }
      ]
    },
    {
      "cell_type": "code",
      "source": [
        "df.isnull().sum()\n",
        "#checking for missing values"
      ],
      "metadata": {
        "colab": {
          "base_uri": "https://localhost:8080/"
        },
        "id": "XZCk9d9Y7kTt",
        "outputId": "2c3f2ac8-144c-4306-98a3-3b6a035b0fa7"
      },
      "execution_count": null,
      "outputs": [
        {
          "output_type": "execute_result",
          "data": {
            "text/plain": [
              "Financial_Year         0\n",
              "Financial_Quarter      0\n",
              "Force_Name             0\n",
              "Offence_Description    0\n",
              "Offence_Group          0\n",
              "Offence_Subgroup       0\n",
              "Offence_Code           0\n",
              "Number_of_Offences     0\n",
              "dtype: int64"
            ]
          },
          "metadata": {},
          "execution_count": 55
        }
      ]
    },
    {
      "cell_type": "markdown",
      "source": [
        "**From the analyses, I was able to discover that there was no missing data using Pandas**"
      ],
      "metadata": {
        "id": "7PtItN7jAZXc"
      }
    },
    {
      "cell_type": "code",
      "source": [
        "#Checking the data type for Number of Offences\n",
        "df[\"Number_of_Offences\"].dtype"
      ],
      "metadata": {
        "colab": {
          "base_uri": "https://localhost:8080/"
        },
        "id": "qWG15nXl76Bd",
        "outputId": "c4525ab5-d6b9-4b8e-c593-102fc61c4420"
      },
      "execution_count": null,
      "outputs": [
        {
          "output_type": "execute_result",
          "data": {
            "text/plain": [
              "dtype('int64')"
            ]
          },
          "metadata": {},
          "execution_count": 56
        }
      ]
    },
    {
      "cell_type": "markdown",
      "source": [
        "**DATA CLEANING**"
      ],
      "metadata": {
        "id": "eY0_73Bw8XpL"
      }
    },
    {
      "cell_type": "code",
      "source": [
        "df[\"Financial_Year\"].unique()"
      ],
      "metadata": {
        "colab": {
          "base_uri": "https://localhost:8080/"
        },
        "id": "V6WRo17t8CJr",
        "outputId": "45e52fe1-4f35-457a-807d-1f582e3f1523"
      },
      "execution_count": null,
      "outputs": [
        {
          "output_type": "execute_result",
          "data": {
            "text/plain": [
              "array(['2012/13', '2013/14', '2014/15', '2015/16', '2016/17', '2017/18',\n",
              "       '2018/19', '2019/20', '2020/21', '2021/22', '2022/23', '2023/24'],\n",
              "      dtype=object)"
            ]
          },
          "metadata": {},
          "execution_count": 57
        }
      ]
    },
    {
      "cell_type": "code",
      "source": [
        "df[\"Financial_Quarter\"].unique()"
      ],
      "metadata": {
        "colab": {
          "base_uri": "https://localhost:8080/"
        },
        "id": "MqxSQbmy8bhu",
        "outputId": "c9c7fb26-290d-4890-d0d9-275953432c05"
      },
      "execution_count": null,
      "outputs": [
        {
          "output_type": "execute_result",
          "data": {
            "text/plain": [
              "array([1, 2, 3, 4])"
            ]
          },
          "metadata": {},
          "execution_count": 58
        }
      ]
    },
    {
      "cell_type": "code",
      "source": [
        "df[\"Force_Name\"].unique()"
      ],
      "metadata": {
        "colab": {
          "base_uri": "https://localhost:8080/"
        },
        "id": "rboFZe_V8fjM",
        "outputId": "b3f09d5e-c8f1-4d2c-b349-1613938ffa8d"
      },
      "execution_count": null,
      "outputs": [
        {
          "output_type": "execute_result",
          "data": {
            "text/plain": [
              "array(['Action Fraud', 'Avon and Somerset', 'Bedfordshire',\n",
              "       'British Transport Police', 'Cambridgeshire', 'Cheshire', 'CIFAS',\n",
              "       'Cleveland', 'Cumbria', 'Derbyshire', 'Devon and Cornwall',\n",
              "       'Dorset', 'Durham', 'Dyfed-Powys', 'Essex',\n",
              "       'Financial Fraud Action UK', 'Gloucestershire',\n",
              "       'Greater Manchester', 'Gwent', 'Hampshire', 'Hertfordshire',\n",
              "       'Humberside', 'Kent', 'Lancashire', 'Leicestershire',\n",
              "       'Lincolnshire', 'London, City of', 'Merseyside',\n",
              "       'Metropolitan Police', 'Norfolk', 'North Wales', 'North Yorkshire',\n",
              "       'Northamptonshire', 'Northumbria', 'Nottinghamshire',\n",
              "       'South Wales', 'South Yorkshire', 'Staffordshire', 'Suffolk',\n",
              "       'Surrey', 'Sussex', 'Thames Valley', 'Warwickshire', 'West Mercia',\n",
              "       'West Midlands', 'West Yorkshire', 'Wiltshire', 'Cifas',\n",
              "       'UK Finance'], dtype=object)"
            ]
          },
          "metadata": {},
          "execution_count": 59
        }
      ]
    },
    {
      "cell_type": "code",
      "source": [
        "df[\"Offence_Description\"].unique()"
      ],
      "metadata": {
        "colab": {
          "base_uri": "https://localhost:8080/"
        },
        "id": "VZZ4v35D8kV6",
        "outputId": "516513db-ba6f-4eb0-b0a6-76f5f053dde3"
      },
      "execution_count": null,
      "outputs": [
        {
          "output_type": "execute_result",
          "data": {
            "text/plain": [
              "array(['Fraud offences recorded by Action Fraud',\n",
              "       'Abandoning child under two years (outcomes only)',\n",
              "       'Absconding from lawful custody',\n",
              "       'Abuse of children through prostitution and pornography',\n",
              "       'Abuse of position of trust of a sexual nature',\n",
              "       'Actually bodily harm and other injury(outcomes only)',\n",
              "       'Adulteration of food (outcomes only)',\n",
              "       'Aggravated burglary in a building other than a dwelling',\n",
              "       'Aggravated burglary in a dwelling', 'Aggravated vehicle taking',\n",
              "       'Aiding suicide', 'Arson endangering life',\n",
              "       'Arson not endangering life', 'Assault with injury',\n",
              "       'Assault with intent to cause serious harm',\n",
              "       'Assault without injury', 'Assault without injury on a constable',\n",
              "       'Attempted burglary in a building other than a dwelling',\n",
              "       'Attempted burglary in a dwelling',\n",
              "       'Attempted distraction burglary in a dwelling', 'Attempted murder',\n",
              "       'Bail offences', 'Bankruptcy and insolvency (outcomes only)',\n",
              "       'Betting, gaming and lotteries (outcomes only)', 'Bigamy',\n",
              "       'Blackmail', 'Burglary in a building other than a dwelling',\n",
              "       'Burglary in a dwelling',\n",
              "       'Causing death by aggravated vehicle taking',\n",
              "       'Causing death by careless driving under influence of drink or drugs',\n",
              "       'Causing death by careless or inconsiderate driving',\n",
              "       'Causing death by dangerous driving',\n",
              "       'Causing death by driving: unlicensed drivers etc.',\n",
              "       'Causing or allowing death of child or vulnerable person',\n",
              "       'Causing sexual activity without consent', 'Child abduction',\n",
              "       'Concealing an infant death close to birth',\n",
              "       'Conspiracy to murder',\n",
              "       'Criminal damage to a building other than a dwelling',\n",
              "       'Criminal damage to a dwelling', 'Criminal damage to a vehicle',\n",
              "       'Cruelty to and neglect of children (outcomes only)',\n",
              "       'Cruelty to children/young persons',\n",
              "       'Customs and Revenue offences (outcomes only)',\n",
              "       'Dangerous driving',\n",
              "       'Disclosure, obstruction, false or misleading statements etc',\n",
              "       'Dishonest use of electricity',\n",
              "       'Distraction burglary in a dwelling', 'Endangering life',\n",
              "       'Endangering life at sea (outcomes only)',\n",
              "       'Endangering railway passengers (outcomes only)',\n",
              "       'Exploitation of prostitution', 'Exposure and voyeurism',\n",
              "       'False accounting (outcomes only)',\n",
              "       'Forgery or use of false drug prescription',\n",
              "       'Fraud by abuse of position (outcomes only)',\n",
              "       'Fraud by company director (outcomes only)',\n",
              "       'Fraud by failing to disclose information (outcomes only)',\n",
              "       'Fraud by false representation: cheque, plastic card and online bank accounts (not PSP) (outcomes only)',\n",
              "       'Fraud by false representation: other frauds (outcomes only)',\n",
              "       'Fraud, forgery etc associated with vehicle or driver records',\n",
              "       'Going equipped for stealing, etc', 'Handling stolen goods',\n",
              "       'Harassment', 'Health and Safety offences (outcomes only)',\n",
              "       'Homicide', 'Immigration Acts (outcomes only)',\n",
              "       'Incest or familial sexual offences',\n",
              "       'Inflicting grievous bodily harm without intent (outcomes only)',\n",
              "       'Intentional destruction of a viable unborn child',\n",
              "       'Interfering with a motor vehicle', 'Kidnapping',\n",
              "       'Libel (outcomes only)', 'Making off without payment',\n",
              "       'Making or supplying articles for use in fraud (outcomes only)',\n",
              "       'Obscene publications etc', 'Offender Management Act offences',\n",
              "       'Other criminal damage', 'Other drug offences',\n",
              "       'Other firearms offences', 'Other forgery',\n",
              "       'Other knives offences', 'Other miscellaneous sexual offences',\n",
              "       'Other notifiable offences',\n",
              "       'Other offences against the State or public order', 'Other theft',\n",
              "       'Perjury', 'Perverting the course of justice',\n",
              "       'Planning laws (outcomes only)',\n",
              "       'Poisoning or female genital mutilation (outcomes only)',\n",
              "       'Possession of article with blade or point',\n",
              "       'Possession of articles for use in fraud (outcomes only)',\n",
              "       'Possession of controlled drugs (Cannabis)',\n",
              "       'Possession of controlled drugs (excl. Cannabis)',\n",
              "       'Possession of false documents', 'Possession of firearms offences',\n",
              "       'Possession of firearms with intent',\n",
              "       'Possession of items to endanger life(outcomes only)',\n",
              "       'Possession of other weapons',\n",
              "       'Preserved other fraud and repealed fraud offences (pre Fraud Act 2006)   ',\n",
              "       'Procuring illegal abortion',\n",
              "       'Profiting from or concealing knowledge of the proceeds of crime',\n",
              "       'Protection from eviction (outcomes only)',\n",
              "       'Public fear, alarm or distress',\n",
              "       'Public health offences (outcomes only)',\n",
              "       'Racially or religiously aggravated actual bodily harm and other injury (outcomes only)',\n",
              "       'Racially or religiously aggravated assault with injury',\n",
              "       'Racially or religiously aggravated assault without injury',\n",
              "       'Racially or religiously aggravated criminal damage',\n",
              "       'Racially or religiously aggravated criminal damage to a building other than a dwelling (outcomes only)',\n",
              "       'Racially or religiously aggravated criminal damage to a dwelling (outcomes only)',\n",
              "       'Racially or religiously aggravated criminal damage to a vehicle (outcomes only)',\n",
              "       'Racially or religiously aggravated harassment',\n",
              "       'Racially or religiously aggravated inflicting grievous bodily harm without intent (outcomes only)',\n",
              "       'Racially or religiously aggravated other criminal damage (outcomes only)',\n",
              "       'Racially or religiously aggravated public fear, alarm or distress',\n",
              "       'Rape of a female aged 16 and over',\n",
              "       'Rape of a female child under 13',\n",
              "       'Rape of a female child under 16',\n",
              "       'Rape of a male aged 16 and over', 'Rape of a male child under 13',\n",
              "       'Rape of a male child under 16', 'Riot (outcomes only)',\n",
              "       'Robbery of business property', 'Robbery of personal property',\n",
              "       'Sexual activity etc with a person with a mental disorder',\n",
              "       'Sexual activity involving a child under 13',\n",
              "       'Sexual activity involving child under 16',\n",
              "       'Sexual assault on a female aged 13 and over',\n",
              "       'Sexual assault on a female child under 13',\n",
              "       'Sexual assault on a male aged 13 and over',\n",
              "       'Sexual assault on a male child under 13', 'Sexual grooming',\n",
              "       'Shoplifting', 'Soliciting for the purposes of prostitution',\n",
              "       'Theft by an employee', 'Theft from automatic machine or meter',\n",
              "       'Theft from the person', 'Theft from vehicle',\n",
              "       'Theft in a dwelling other than from an automatic machine or meter',\n",
              "       'Theft of mail', 'Theft or unauthorised taking of a pedal cycle',\n",
              "       'Theft or unauthorised taking of motor vehicle',\n",
              "       'Threat or possession with intent to commit criminal damage',\n",
              "       'Threats to kill', 'Trade descriptions etc (outcomes only)',\n",
              "       'Trafficking for sexual exploitation',\n",
              "       'Trafficking in controlled drugs', 'Treason (outcomes only)',\n",
              "       'Treason felony (outcomes only)', 'Unnatural sexual offences',\n",
              "       'Use of substance or object to endanger life (outcomes only)',\n",
              "       'Violent disorder', 'Violent disorder (outcomes only)',\n",
              "       'Wounding or carrying out an act endangering life (outcomes only)',\n",
              "       'Fraud offences recorded by CIFAS',\n",
              "       'Fraud offences recorded by Financial Fraud Action UK',\n",
              "       'Abuse of children through sexual exploitation',\n",
              "       'Aggravated burglary in a building other than a dwelling(outcome only)',\n",
              "       'Aggravated burglary in a dwelling (outcome only)',\n",
              "       'Attempted burglary in a building other than a dwelling (outcome only)',\n",
              "       'Attempted burglary in a dwelling (outcome only)',\n",
              "       'Attempted distraction burglary in a dwelling (outcome only)',\n",
              "       'Burglary in a building other than a dwelling (outcome only)',\n",
              "       'Burglary in a dwelling(outcome only)',\n",
              "       'Causing death by driving: unlicensed or disqualified or uninsured drivers',\n",
              "       'Causing death or serious injury by dangerous driving',\n",
              "       'Corporate manslaughter',\n",
              "       'Distraction burglary in a dwelling (outcome only)', 'Infanticide',\n",
              "       'Making, supplying or possessing articles for use in fraud',\n",
              "       'Manslaughter', 'Murder', 'Stalking', 'Wildlife', 'Modern slavery',\n",
              "       'Aggravated Burglary Business and Community',\n",
              "       'Aggravated Burglary Residential',\n",
              "       'Assault with injury on a constable',\n",
              "       'Attempted Burglary Business and Community',\n",
              "       'Attempted Burglary Residential',\n",
              "       'Attempted Distraction Burglary Residential',\n",
              "       'Burglary Business and Community', 'Burglary Residential',\n",
              "       'Distraction Burglary Residential', 'Malicious Communications',\n",
              "       'Fraud offences recorded by UK Finance',\n",
              "       'Rape of a Female - Multiple Undefined Offenders',\n",
              "       'Rape of a Male - Multiple Undefined Offenders',\n",
              "       'Assaults on emergency workers (other than constables)',\n",
              "       'Controlling and coercive behaviour',\n",
              "       'Aggravated burglary - residential (home)',\n",
              "       'Aggravated burglary - residential (unconnected building)',\n",
              "       'Attempted distraction burglary - residential (home)',\n",
              "       'Attempted distraction burglary - residential (unconnected building)',\n",
              "       'Attempted residential burglary of a home',\n",
              "       'Attempted residential burglary of\\xa0unconnected building',\n",
              "       'Distraction burglary - residential (home)',\n",
              "       'Distraction burglary - residential (unconnected building)',\n",
              "       'Residential burglary of a home',\n",
              "       'Residential burglary of\\xa0unconnected building'], dtype=object)"
            ]
          },
          "metadata": {},
          "execution_count": 60
        }
      ]
    },
    {
      "cell_type": "markdown",
      "source": [
        "It was observed that two Offence description were wrongly written\n",
        "\n",
        "1. Attempted residential burglary of\\xa0unconnected building\n",
        "2. Residential burglary of\\xa0unconnected building"
      ],
      "metadata": {
        "id": "zFTjIKoy9AWC"
      }
    },
    {
      "cell_type": "markdown",
      "source": [
        "Applying corrections"
      ],
      "metadata": {
        "id": "Bcoma6bx9kQ_"
      }
    },
    {
      "cell_type": "code",
      "source": [
        "replace_dict = {\"Attempted residential burglary of\\xa0unconnected building\": \"Attempted residential burglary of unconnected building\", \"Residential burglary of\\xa0unconnected building\" : \"Residential burglary of unconnected building\"}\n",
        "df[\"Offence_Description\"].replace(replace_dict, inplace=True)"
      ],
      "metadata": {
        "id": "m4tIa-cZ8-q_"
      },
      "execution_count": null,
      "outputs": []
    },
    {
      "cell_type": "code",
      "source": [
        "df[\"Offence_Description\"].unique()"
      ],
      "metadata": {
        "id": "OLd-mpsd9rRu",
        "colab": {
          "base_uri": "https://localhost:8080/"
        },
        "outputId": "775b381f-dcff-4508-8d4b-5532fb9a8648"
      },
      "execution_count": null,
      "outputs": [
        {
          "output_type": "execute_result",
          "data": {
            "text/plain": [
              "array(['Fraud offences recorded by Action Fraud',\n",
              "       'Abandoning child under two years (outcomes only)',\n",
              "       'Absconding from lawful custody',\n",
              "       'Abuse of children through prostitution and pornography',\n",
              "       'Abuse of position of trust of a sexual nature',\n",
              "       'Actually bodily harm and other injury(outcomes only)',\n",
              "       'Adulteration of food (outcomes only)',\n",
              "       'Aggravated burglary in a building other than a dwelling',\n",
              "       'Aggravated burglary in a dwelling', 'Aggravated vehicle taking',\n",
              "       'Aiding suicide', 'Arson endangering life',\n",
              "       'Arson not endangering life', 'Assault with injury',\n",
              "       'Assault with intent to cause serious harm',\n",
              "       'Assault without injury', 'Assault without injury on a constable',\n",
              "       'Attempted burglary in a building other than a dwelling',\n",
              "       'Attempted burglary in a dwelling',\n",
              "       'Attempted distraction burglary in a dwelling', 'Attempted murder',\n",
              "       'Bail offences', 'Bankruptcy and insolvency (outcomes only)',\n",
              "       'Betting, gaming and lotteries (outcomes only)', 'Bigamy',\n",
              "       'Blackmail', 'Burglary in a building other than a dwelling',\n",
              "       'Burglary in a dwelling',\n",
              "       'Causing death by aggravated vehicle taking',\n",
              "       'Causing death by careless driving under influence of drink or drugs',\n",
              "       'Causing death by careless or inconsiderate driving',\n",
              "       'Causing death by dangerous driving',\n",
              "       'Causing death by driving: unlicensed drivers etc.',\n",
              "       'Causing or allowing death of child or vulnerable person',\n",
              "       'Causing sexual activity without consent', 'Child abduction',\n",
              "       'Concealing an infant death close to birth',\n",
              "       'Conspiracy to murder',\n",
              "       'Criminal damage to a building other than a dwelling',\n",
              "       'Criminal damage to a dwelling', 'Criminal damage to a vehicle',\n",
              "       'Cruelty to and neglect of children (outcomes only)',\n",
              "       'Cruelty to children/young persons',\n",
              "       'Customs and Revenue offences (outcomes only)',\n",
              "       'Dangerous driving',\n",
              "       'Disclosure, obstruction, false or misleading statements etc',\n",
              "       'Dishonest use of electricity',\n",
              "       'Distraction burglary in a dwelling', 'Endangering life',\n",
              "       'Endangering life at sea (outcomes only)',\n",
              "       'Endangering railway passengers (outcomes only)',\n",
              "       'Exploitation of prostitution', 'Exposure and voyeurism',\n",
              "       'False accounting (outcomes only)',\n",
              "       'Forgery or use of false drug prescription',\n",
              "       'Fraud by abuse of position (outcomes only)',\n",
              "       'Fraud by company director (outcomes only)',\n",
              "       'Fraud by failing to disclose information (outcomes only)',\n",
              "       'Fraud by false representation: cheque, plastic card and online bank accounts (not PSP) (outcomes only)',\n",
              "       'Fraud by false representation: other frauds (outcomes only)',\n",
              "       'Fraud, forgery etc associated with vehicle or driver records',\n",
              "       'Going equipped for stealing, etc', 'Handling stolen goods',\n",
              "       'Harassment', 'Health and Safety offences (outcomes only)',\n",
              "       'Homicide', 'Immigration Acts (outcomes only)',\n",
              "       'Incest or familial sexual offences',\n",
              "       'Inflicting grievous bodily harm without intent (outcomes only)',\n",
              "       'Intentional destruction of a viable unborn child',\n",
              "       'Interfering with a motor vehicle', 'Kidnapping',\n",
              "       'Libel (outcomes only)', 'Making off without payment',\n",
              "       'Making or supplying articles for use in fraud (outcomes only)',\n",
              "       'Obscene publications etc', 'Offender Management Act offences',\n",
              "       'Other criminal damage', 'Other drug offences',\n",
              "       'Other firearms offences', 'Other forgery',\n",
              "       'Other knives offences', 'Other miscellaneous sexual offences',\n",
              "       'Other notifiable offences',\n",
              "       'Other offences against the State or public order', 'Other theft',\n",
              "       'Perjury', 'Perverting the course of justice',\n",
              "       'Planning laws (outcomes only)',\n",
              "       'Poisoning or female genital mutilation (outcomes only)',\n",
              "       'Possession of article with blade or point',\n",
              "       'Possession of articles for use in fraud (outcomes only)',\n",
              "       'Possession of controlled drugs (Cannabis)',\n",
              "       'Possession of controlled drugs (excl. Cannabis)',\n",
              "       'Possession of false documents', 'Possession of firearms offences',\n",
              "       'Possession of firearms with intent',\n",
              "       'Possession of items to endanger life(outcomes only)',\n",
              "       'Possession of other weapons',\n",
              "       'Preserved other fraud and repealed fraud offences (pre Fraud Act 2006)   ',\n",
              "       'Procuring illegal abortion',\n",
              "       'Profiting from or concealing knowledge of the proceeds of crime',\n",
              "       'Protection from eviction (outcomes only)',\n",
              "       'Public fear, alarm or distress',\n",
              "       'Public health offences (outcomes only)',\n",
              "       'Racially or religiously aggravated actual bodily harm and other injury (outcomes only)',\n",
              "       'Racially or religiously aggravated assault with injury',\n",
              "       'Racially or religiously aggravated assault without injury',\n",
              "       'Racially or religiously aggravated criminal damage',\n",
              "       'Racially or religiously aggravated criminal damage to a building other than a dwelling (outcomes only)',\n",
              "       'Racially or religiously aggravated criminal damage to a dwelling (outcomes only)',\n",
              "       'Racially or religiously aggravated criminal damage to a vehicle (outcomes only)',\n",
              "       'Racially or religiously aggravated harassment',\n",
              "       'Racially or religiously aggravated inflicting grievous bodily harm without intent (outcomes only)',\n",
              "       'Racially or religiously aggravated other criminal damage (outcomes only)',\n",
              "       'Racially or religiously aggravated public fear, alarm or distress',\n",
              "       'Rape of a female aged 16 and over',\n",
              "       'Rape of a female child under 13',\n",
              "       'Rape of a female child under 16',\n",
              "       'Rape of a male aged 16 and over', 'Rape of a male child under 13',\n",
              "       'Rape of a male child under 16', 'Riot (outcomes only)',\n",
              "       'Robbery of business property', 'Robbery of personal property',\n",
              "       'Sexual activity etc with a person with a mental disorder',\n",
              "       'Sexual activity involving a child under 13',\n",
              "       'Sexual activity involving child under 16',\n",
              "       'Sexual assault on a female aged 13 and over',\n",
              "       'Sexual assault on a female child under 13',\n",
              "       'Sexual assault on a male aged 13 and over',\n",
              "       'Sexual assault on a male child under 13', 'Sexual grooming',\n",
              "       'Shoplifting', 'Soliciting for the purposes of prostitution',\n",
              "       'Theft by an employee', 'Theft from automatic machine or meter',\n",
              "       'Theft from the person', 'Theft from vehicle',\n",
              "       'Theft in a dwelling other than from an automatic machine or meter',\n",
              "       'Theft of mail', 'Theft or unauthorised taking of a pedal cycle',\n",
              "       'Theft or unauthorised taking of motor vehicle',\n",
              "       'Threat or possession with intent to commit criminal damage',\n",
              "       'Threats to kill', 'Trade descriptions etc (outcomes only)',\n",
              "       'Trafficking for sexual exploitation',\n",
              "       'Trafficking in controlled drugs', 'Treason (outcomes only)',\n",
              "       'Treason felony (outcomes only)', 'Unnatural sexual offences',\n",
              "       'Use of substance or object to endanger life (outcomes only)',\n",
              "       'Violent disorder', 'Violent disorder (outcomes only)',\n",
              "       'Wounding or carrying out an act endangering life (outcomes only)',\n",
              "       'Fraud offences recorded by CIFAS',\n",
              "       'Fraud offences recorded by Financial Fraud Action UK',\n",
              "       'Abuse of children through sexual exploitation',\n",
              "       'Aggravated burglary in a building other than a dwelling(outcome only)',\n",
              "       'Aggravated burglary in a dwelling (outcome only)',\n",
              "       'Attempted burglary in a building other than a dwelling (outcome only)',\n",
              "       'Attempted burglary in a dwelling (outcome only)',\n",
              "       'Attempted distraction burglary in a dwelling (outcome only)',\n",
              "       'Burglary in a building other than a dwelling (outcome only)',\n",
              "       'Burglary in a dwelling(outcome only)',\n",
              "       'Causing death by driving: unlicensed or disqualified or uninsured drivers',\n",
              "       'Causing death or serious injury by dangerous driving',\n",
              "       'Corporate manslaughter',\n",
              "       'Distraction burglary in a dwelling (outcome only)', 'Infanticide',\n",
              "       'Making, supplying or possessing articles for use in fraud',\n",
              "       'Manslaughter', 'Murder', 'Stalking', 'Wildlife', 'Modern slavery',\n",
              "       'Aggravated Burglary Business and Community',\n",
              "       'Aggravated Burglary Residential',\n",
              "       'Assault with injury on a constable',\n",
              "       'Attempted Burglary Business and Community',\n",
              "       'Attempted Burglary Residential',\n",
              "       'Attempted Distraction Burglary Residential',\n",
              "       'Burglary Business and Community', 'Burglary Residential',\n",
              "       'Distraction Burglary Residential', 'Malicious Communications',\n",
              "       'Fraud offences recorded by UK Finance',\n",
              "       'Rape of a Female - Multiple Undefined Offenders',\n",
              "       'Rape of a Male - Multiple Undefined Offenders',\n",
              "       'Assaults on emergency workers (other than constables)',\n",
              "       'Controlling and coercive behaviour',\n",
              "       'Aggravated burglary - residential (home)',\n",
              "       'Aggravated burglary - residential (unconnected building)',\n",
              "       'Attempted distraction burglary - residential (home)',\n",
              "       'Attempted distraction burglary - residential (unconnected building)',\n",
              "       'Attempted residential burglary of a home',\n",
              "       'Attempted residential burglary of unconnected building',\n",
              "       'Distraction burglary - residential (home)',\n",
              "       'Distraction burglary - residential (unconnected building)',\n",
              "       'Residential burglary of a home',\n",
              "       'Residential burglary of unconnected building'], dtype=object)"
            ]
          },
          "metadata": {},
          "execution_count": 62
        }
      ]
    },
    {
      "cell_type": "code",
      "source": [
        "df[\"Offence_Group\"].unique()"
      ],
      "metadata": {
        "colab": {
          "base_uri": "https://localhost:8080/"
        },
        "id": "inFDfFC--yM0",
        "outputId": "32b334c8-2771-4f9a-907d-37b5e349b177"
      },
      "execution_count": null,
      "outputs": [
        {
          "output_type": "execute_result",
          "data": {
            "text/plain": [
              "array(['Fraud offences', 'Violence against the person',\n",
              "       'Miscellaneous crimes against society', 'Sexual offences',\n",
              "       'Theft offences', 'Criminal damage and arson', 'Drug offences',\n",
              "       'Possession of weapons offences', 'Public order offences',\n",
              "       'Robbery'], dtype=object)"
            ]
          },
          "metadata": {},
          "execution_count": 63
        }
      ]
    },
    {
      "cell_type": "code",
      "source": [
        "df[\"Offence_Subgroup\"].unique()"
      ],
      "metadata": {
        "colab": {
          "base_uri": "https://localhost:8080/"
        },
        "id": "eXXh5xTg-7pG",
        "outputId": "acf1dec9-2721-4656-f722-7d2f8e42ef24"
      },
      "execution_count": null,
      "outputs": [
        {
          "output_type": "execute_result",
          "data": {
            "text/plain": [
              "array(['Fraud: Action Fraud', 'Violence without injury',\n",
              "       'Miscellaneous crimes against society', 'Other sexual offences',\n",
              "       'Violence with injury', 'Non-domestic burglary',\n",
              "       'Domestic burglary', 'Theft of a motor vehicle', 'Arson',\n",
              "       'Fraud offences to 2012/13', 'Other theft offences',\n",
              "       'Criminal damage', 'Homicide', 'Vehicle interference',\n",
              "       'Possession of drugs', 'Possession of weapons offences',\n",
              "       'Public order offences', 'Rape offences',\n",
              "       'Robbery of business property', 'Robbery of personal property',\n",
              "       'Shoplifting', 'Theft from the person', 'Theft from a vehicle',\n",
              "       'Bicycle theft', 'Trafficking of drugs', 'Fraud: CIFAS',\n",
              "       'Fraud: Financial Fraud Action UK',\n",
              "       'Death or serious injury - unlawful driving',\n",
              "       'Stalking and harassment', 'Fraud: action fraud',\n",
              "       'Fraud: UK Finance'], dtype=object)"
            ]
          },
          "metadata": {},
          "execution_count": 64
        }
      ]
    },
    {
      "cell_type": "code",
      "source": [
        "df.describe()"
      ],
      "metadata": {
        "colab": {
          "base_uri": "https://localhost:8080/",
          "height": 300
        },
        "id": "bzPIBLVW--U4",
        "outputId": "0910f506-162c-40a4-ac8a-2aabe75ac510"
      },
      "execution_count": null,
      "outputs": [
        {
          "output_type": "execute_result",
          "data": {
            "text/plain": [
              "       Financial_Quarter  Number_of_Offences\n",
              "count      258905.000000       258905.000000\n",
              "mean            2.463031          229.901837\n",
              "std             1.128399         1724.363276\n",
              "min             1.000000         -268.000000\n",
              "25%             1.000000            0.000000\n",
              "50%             2.000000            9.000000\n",
              "75%             3.000000           83.000000\n",
              "max             4.000000       132693.000000"
            ],
            "text/html": [
              "\n",
              "  <div id=\"df-467ffe90-8d51-48d5-b944-a87e229663c9\" class=\"colab-df-container\">\n",
              "    <div>\n",
              "<style scoped>\n",
              "    .dataframe tbody tr th:only-of-type {\n",
              "        vertical-align: middle;\n",
              "    }\n",
              "\n",
              "    .dataframe tbody tr th {\n",
              "        vertical-align: top;\n",
              "    }\n",
              "\n",
              "    .dataframe thead th {\n",
              "        text-align: right;\n",
              "    }\n",
              "</style>\n",
              "<table border=\"1\" class=\"dataframe\">\n",
              "  <thead>\n",
              "    <tr style=\"text-align: right;\">\n",
              "      <th></th>\n",
              "      <th>Financial_Quarter</th>\n",
              "      <th>Number_of_Offences</th>\n",
              "    </tr>\n",
              "  </thead>\n",
              "  <tbody>\n",
              "    <tr>\n",
              "      <th>count</th>\n",
              "      <td>258905.000000</td>\n",
              "      <td>258905.000000</td>\n",
              "    </tr>\n",
              "    <tr>\n",
              "      <th>mean</th>\n",
              "      <td>2.463031</td>\n",
              "      <td>229.901837</td>\n",
              "    </tr>\n",
              "    <tr>\n",
              "      <th>std</th>\n",
              "      <td>1.128399</td>\n",
              "      <td>1724.363276</td>\n",
              "    </tr>\n",
              "    <tr>\n",
              "      <th>min</th>\n",
              "      <td>1.000000</td>\n",
              "      <td>-268.000000</td>\n",
              "    </tr>\n",
              "    <tr>\n",
              "      <th>25%</th>\n",
              "      <td>1.000000</td>\n",
              "      <td>0.000000</td>\n",
              "    </tr>\n",
              "    <tr>\n",
              "      <th>50%</th>\n",
              "      <td>2.000000</td>\n",
              "      <td>9.000000</td>\n",
              "    </tr>\n",
              "    <tr>\n",
              "      <th>75%</th>\n",
              "      <td>3.000000</td>\n",
              "      <td>83.000000</td>\n",
              "    </tr>\n",
              "    <tr>\n",
              "      <th>max</th>\n",
              "      <td>4.000000</td>\n",
              "      <td>132693.000000</td>\n",
              "    </tr>\n",
              "  </tbody>\n",
              "</table>\n",
              "</div>\n",
              "    <div class=\"colab-df-buttons\">\n",
              "\n",
              "  <div class=\"colab-df-container\">\n",
              "    <button class=\"colab-df-convert\" onclick=\"convertToInteractive('df-467ffe90-8d51-48d5-b944-a87e229663c9')\"\n",
              "            title=\"Convert this dataframe to an interactive table.\"\n",
              "            style=\"display:none;\">\n",
              "\n",
              "  <svg xmlns=\"http://www.w3.org/2000/svg\" height=\"24px\" viewBox=\"0 -960 960 960\">\n",
              "    <path d=\"M120-120v-720h720v720H120Zm60-500h600v-160H180v160Zm220 220h160v-160H400v160Zm0 220h160v-160H400v160ZM180-400h160v-160H180v160Zm440 0h160v-160H620v160ZM180-180h160v-160H180v160Zm440 0h160v-160H620v160Z\"/>\n",
              "  </svg>\n",
              "    </button>\n",
              "\n",
              "  <style>\n",
              "    .colab-df-container {\n",
              "      display:flex;\n",
              "      gap: 12px;\n",
              "    }\n",
              "\n",
              "    .colab-df-convert {\n",
              "      background-color: #E8F0FE;\n",
              "      border: none;\n",
              "      border-radius: 50%;\n",
              "      cursor: pointer;\n",
              "      display: none;\n",
              "      fill: #1967D2;\n",
              "      height: 32px;\n",
              "      padding: 0 0 0 0;\n",
              "      width: 32px;\n",
              "    }\n",
              "\n",
              "    .colab-df-convert:hover {\n",
              "      background-color: #E2EBFA;\n",
              "      box-shadow: 0px 1px 2px rgba(60, 64, 67, 0.3), 0px 1px 3px 1px rgba(60, 64, 67, 0.15);\n",
              "      fill: #174EA6;\n",
              "    }\n",
              "\n",
              "    .colab-df-buttons div {\n",
              "      margin-bottom: 4px;\n",
              "    }\n",
              "\n",
              "    [theme=dark] .colab-df-convert {\n",
              "      background-color: #3B4455;\n",
              "      fill: #D2E3FC;\n",
              "    }\n",
              "\n",
              "    [theme=dark] .colab-df-convert:hover {\n",
              "      background-color: #434B5C;\n",
              "      box-shadow: 0px 1px 3px 1px rgba(0, 0, 0, 0.15);\n",
              "      filter: drop-shadow(0px 1px 2px rgba(0, 0, 0, 0.3));\n",
              "      fill: #FFFFFF;\n",
              "    }\n",
              "  </style>\n",
              "\n",
              "    <script>\n",
              "      const buttonEl =\n",
              "        document.querySelector('#df-467ffe90-8d51-48d5-b944-a87e229663c9 button.colab-df-convert');\n",
              "      buttonEl.style.display =\n",
              "        google.colab.kernel.accessAllowed ? 'block' : 'none';\n",
              "\n",
              "      async function convertToInteractive(key) {\n",
              "        const element = document.querySelector('#df-467ffe90-8d51-48d5-b944-a87e229663c9');\n",
              "        const dataTable =\n",
              "          await google.colab.kernel.invokeFunction('convertToInteractive',\n",
              "                                                    [key], {});\n",
              "        if (!dataTable) return;\n",
              "\n",
              "        const docLinkHtml = 'Like what you see? Visit the ' +\n",
              "          '<a target=\"_blank\" href=https://colab.research.google.com/notebooks/data_table.ipynb>data table notebook</a>'\n",
              "          + ' to learn more about interactive tables.';\n",
              "        element.innerHTML = '';\n",
              "        dataTable['output_type'] = 'display_data';\n",
              "        await google.colab.output.renderOutput(dataTable, element);\n",
              "        const docLink = document.createElement('div');\n",
              "        docLink.innerHTML = docLinkHtml;\n",
              "        element.appendChild(docLink);\n",
              "      }\n",
              "    </script>\n",
              "  </div>\n",
              "\n",
              "\n",
              "<div id=\"df-14a1a7c4-e14a-4999-9203-077850e3070b\">\n",
              "  <button class=\"colab-df-quickchart\" onclick=\"quickchart('df-14a1a7c4-e14a-4999-9203-077850e3070b')\"\n",
              "            title=\"Suggest charts\"\n",
              "            style=\"display:none;\">\n",
              "\n",
              "<svg xmlns=\"http://www.w3.org/2000/svg\" height=\"24px\"viewBox=\"0 0 24 24\"\n",
              "     width=\"24px\">\n",
              "    <g>\n",
              "        <path d=\"M19 3H5c-1.1 0-2 .9-2 2v14c0 1.1.9 2 2 2h14c1.1 0 2-.9 2-2V5c0-1.1-.9-2-2-2zM9 17H7v-7h2v7zm4 0h-2V7h2v10zm4 0h-2v-4h2v4z\"/>\n",
              "    </g>\n",
              "</svg>\n",
              "  </button>\n",
              "\n",
              "<style>\n",
              "  .colab-df-quickchart {\n",
              "      --bg-color: #E8F0FE;\n",
              "      --fill-color: #1967D2;\n",
              "      --hover-bg-color: #E2EBFA;\n",
              "      --hover-fill-color: #174EA6;\n",
              "      --disabled-fill-color: #AAA;\n",
              "      --disabled-bg-color: #DDD;\n",
              "  }\n",
              "\n",
              "  [theme=dark] .colab-df-quickchart {\n",
              "      --bg-color: #3B4455;\n",
              "      --fill-color: #D2E3FC;\n",
              "      --hover-bg-color: #434B5C;\n",
              "      --hover-fill-color: #FFFFFF;\n",
              "      --disabled-bg-color: #3B4455;\n",
              "      --disabled-fill-color: #666;\n",
              "  }\n",
              "\n",
              "  .colab-df-quickchart {\n",
              "    background-color: var(--bg-color);\n",
              "    border: none;\n",
              "    border-radius: 50%;\n",
              "    cursor: pointer;\n",
              "    display: none;\n",
              "    fill: var(--fill-color);\n",
              "    height: 32px;\n",
              "    padding: 0;\n",
              "    width: 32px;\n",
              "  }\n",
              "\n",
              "  .colab-df-quickchart:hover {\n",
              "    background-color: var(--hover-bg-color);\n",
              "    box-shadow: 0 1px 2px rgba(60, 64, 67, 0.3), 0 1px 3px 1px rgba(60, 64, 67, 0.15);\n",
              "    fill: var(--button-hover-fill-color);\n",
              "  }\n",
              "\n",
              "  .colab-df-quickchart-complete:disabled,\n",
              "  .colab-df-quickchart-complete:disabled:hover {\n",
              "    background-color: var(--disabled-bg-color);\n",
              "    fill: var(--disabled-fill-color);\n",
              "    box-shadow: none;\n",
              "  }\n",
              "\n",
              "  .colab-df-spinner {\n",
              "    border: 2px solid var(--fill-color);\n",
              "    border-color: transparent;\n",
              "    border-bottom-color: var(--fill-color);\n",
              "    animation:\n",
              "      spin 1s steps(1) infinite;\n",
              "  }\n",
              "\n",
              "  @keyframes spin {\n",
              "    0% {\n",
              "      border-color: transparent;\n",
              "      border-bottom-color: var(--fill-color);\n",
              "      border-left-color: var(--fill-color);\n",
              "    }\n",
              "    20% {\n",
              "      border-color: transparent;\n",
              "      border-left-color: var(--fill-color);\n",
              "      border-top-color: var(--fill-color);\n",
              "    }\n",
              "    30% {\n",
              "      border-color: transparent;\n",
              "      border-left-color: var(--fill-color);\n",
              "      border-top-color: var(--fill-color);\n",
              "      border-right-color: var(--fill-color);\n",
              "    }\n",
              "    40% {\n",
              "      border-color: transparent;\n",
              "      border-right-color: var(--fill-color);\n",
              "      border-top-color: var(--fill-color);\n",
              "    }\n",
              "    60% {\n",
              "      border-color: transparent;\n",
              "      border-right-color: var(--fill-color);\n",
              "    }\n",
              "    80% {\n",
              "      border-color: transparent;\n",
              "      border-right-color: var(--fill-color);\n",
              "      border-bottom-color: var(--fill-color);\n",
              "    }\n",
              "    90% {\n",
              "      border-color: transparent;\n",
              "      border-bottom-color: var(--fill-color);\n",
              "    }\n",
              "  }\n",
              "</style>\n",
              "\n",
              "  <script>\n",
              "    async function quickchart(key) {\n",
              "      const quickchartButtonEl =\n",
              "        document.querySelector('#' + key + ' button');\n",
              "      quickchartButtonEl.disabled = true;  // To prevent multiple clicks.\n",
              "      quickchartButtonEl.classList.add('colab-df-spinner');\n",
              "      try {\n",
              "        const charts = await google.colab.kernel.invokeFunction(\n",
              "            'suggestCharts', [key], {});\n",
              "      } catch (error) {\n",
              "        console.error('Error during call to suggestCharts:', error);\n",
              "      }\n",
              "      quickchartButtonEl.classList.remove('colab-df-spinner');\n",
              "      quickchartButtonEl.classList.add('colab-df-quickchart-complete');\n",
              "    }\n",
              "    (() => {\n",
              "      let quickchartButtonEl =\n",
              "        document.querySelector('#df-14a1a7c4-e14a-4999-9203-077850e3070b button');\n",
              "      quickchartButtonEl.style.display =\n",
              "        google.colab.kernel.accessAllowed ? 'block' : 'none';\n",
              "    })();\n",
              "  </script>\n",
              "</div>\n",
              "\n",
              "    </div>\n",
              "  </div>\n"
            ]
          },
          "metadata": {},
          "execution_count": 65
        }
      ]
    },
    {
      "cell_type": "markdown",
      "source": [
        "**Outliners discovered in Number of Offences**\n",
        "- We can't have number of offences being a negative number (<0)"
      ],
      "metadata": {
        "id": "VlcWzufb_O4p"
      }
    },
    {
      "cell_type": "code",
      "source": [
        "df[df[\"Number_of_Offences\"] < 0]"
      ],
      "metadata": {
        "colab": {
          "base_uri": "https://localhost:8080/",
          "height": 739
        },
        "id": "Nm5DLAN4_KMb",
        "outputId": "d23dc3bb-4781-43ae-ad9f-e56178c2dc41"
      },
      "execution_count": null,
      "outputs": [
        {
          "output_type": "execute_result",
          "data": {
            "text/plain": [
              "      Financial_Year  Financial_Quarter                Force_Name  \\\n",
              "407          2012/13                  1  British Transport Police   \n",
              "715          2012/13                  1                  Cheshire   \n",
              "6835         2012/13                  2         Avon and Somerset   \n",
              "6865         2012/13                  2         Avon and Somerset   \n",
              "6878         2012/13                  2         Avon and Somerset   \n",
              "...              ...                ...                       ...   \n",
              "20355        2018/19                  4           London, City of   \n",
              "20377        2018/19                  4           London, City of   \n",
              "20395        2018/19                  4           London, City of   \n",
              "20415        2018/19                  4           London, City of   \n",
              "20428        2018/19                  4           London, City of   \n",
              "\n",
              "                                     Offence_Description  \\\n",
              "407    Preserved other fraud and repealed fraud offen...   \n",
              "715    Preserved other fraud and repealed fraud offen...   \n",
              "6835           Fraud by company director (outcomes only)   \n",
              "6865                                             Perjury   \n",
              "6878   Preserved other fraud and repealed fraud offen...   \n",
              "...                                                  ...   \n",
              "20355                                   Endangering life   \n",
              "20377                                Other drug offences   \n",
              "20395  Profiting from or concealing knowledge of the ...   \n",
              "20415          Sexual assault on a male aged 13 and over   \n",
              "20428      Theft or unauthorised taking of motor vehicle   \n",
              "\n",
              "                              Offence_Group  \\\n",
              "407                          Fraud offences   \n",
              "715                          Fraud offences   \n",
              "6835                         Fraud offences   \n",
              "6865   Miscellaneous crimes against society   \n",
              "6878                         Fraud offences   \n",
              "...                                     ...   \n",
              "20355           Violence against the person   \n",
              "20377                         Drug offences   \n",
              "20395  Miscellaneous crimes against society   \n",
              "20415                       Sexual offences   \n",
              "20428                        Theft offences   \n",
              "\n",
              "                           Offence_Subgroup Offence_Code  Number_of_Offences  \n",
              "407               Fraud offences to 2012/13          53B                  -1  \n",
              "715               Fraud offences to 2012/13          53B                  -3  \n",
              "6835              Fraud offences to 2012/13           51                  -1  \n",
              "6865   Miscellaneous crimes against society           67                  -1  \n",
              "6878              Fraud offences to 2012/13          53B                 -15  \n",
              "...                                     ...          ...                 ...  \n",
              "20355                  Violence with injury           5E                  -1  \n",
              "20377                   Possession of drugs          92C                  -1  \n",
              "20395  Miscellaneous crimes against society           38                  -2  \n",
              "20415                 Other sexual offences          17A                  -1  \n",
              "20428              Theft of a motor vehicle           48                  -2  \n",
              "\n",
              "[426 rows x 8 columns]"
            ],
            "text/html": [
              "\n",
              "  <div id=\"df-6bc07227-f3ff-43e5-a067-f95eda1b3885\" class=\"colab-df-container\">\n",
              "    <div>\n",
              "<style scoped>\n",
              "    .dataframe tbody tr th:only-of-type {\n",
              "        vertical-align: middle;\n",
              "    }\n",
              "\n",
              "    .dataframe tbody tr th {\n",
              "        vertical-align: top;\n",
              "    }\n",
              "\n",
              "    .dataframe thead th {\n",
              "        text-align: right;\n",
              "    }\n",
              "</style>\n",
              "<table border=\"1\" class=\"dataframe\">\n",
              "  <thead>\n",
              "    <tr style=\"text-align: right;\">\n",
              "      <th></th>\n",
              "      <th>Financial_Year</th>\n",
              "      <th>Financial_Quarter</th>\n",
              "      <th>Force_Name</th>\n",
              "      <th>Offence_Description</th>\n",
              "      <th>Offence_Group</th>\n",
              "      <th>Offence_Subgroup</th>\n",
              "      <th>Offence_Code</th>\n",
              "      <th>Number_of_Offences</th>\n",
              "    </tr>\n",
              "  </thead>\n",
              "  <tbody>\n",
              "    <tr>\n",
              "      <th>407</th>\n",
              "      <td>2012/13</td>\n",
              "      <td>1</td>\n",
              "      <td>British Transport Police</td>\n",
              "      <td>Preserved other fraud and repealed fraud offen...</td>\n",
              "      <td>Fraud offences</td>\n",
              "      <td>Fraud offences to 2012/13</td>\n",
              "      <td>53B</td>\n",
              "      <td>-1</td>\n",
              "    </tr>\n",
              "    <tr>\n",
              "      <th>715</th>\n",
              "      <td>2012/13</td>\n",
              "      <td>1</td>\n",
              "      <td>Cheshire</td>\n",
              "      <td>Preserved other fraud and repealed fraud offen...</td>\n",
              "      <td>Fraud offences</td>\n",
              "      <td>Fraud offences to 2012/13</td>\n",
              "      <td>53B</td>\n",
              "      <td>-3</td>\n",
              "    </tr>\n",
              "    <tr>\n",
              "      <th>6835</th>\n",
              "      <td>2012/13</td>\n",
              "      <td>2</td>\n",
              "      <td>Avon and Somerset</td>\n",
              "      <td>Fraud by company director (outcomes only)</td>\n",
              "      <td>Fraud offences</td>\n",
              "      <td>Fraud offences to 2012/13</td>\n",
              "      <td>51</td>\n",
              "      <td>-1</td>\n",
              "    </tr>\n",
              "    <tr>\n",
              "      <th>6865</th>\n",
              "      <td>2012/13</td>\n",
              "      <td>2</td>\n",
              "      <td>Avon and Somerset</td>\n",
              "      <td>Perjury</td>\n",
              "      <td>Miscellaneous crimes against society</td>\n",
              "      <td>Miscellaneous crimes against society</td>\n",
              "      <td>67</td>\n",
              "      <td>-1</td>\n",
              "    </tr>\n",
              "    <tr>\n",
              "      <th>6878</th>\n",
              "      <td>2012/13</td>\n",
              "      <td>2</td>\n",
              "      <td>Avon and Somerset</td>\n",
              "      <td>Preserved other fraud and repealed fraud offen...</td>\n",
              "      <td>Fraud offences</td>\n",
              "      <td>Fraud offences to 2012/13</td>\n",
              "      <td>53B</td>\n",
              "      <td>-15</td>\n",
              "    </tr>\n",
              "    <tr>\n",
              "      <th>...</th>\n",
              "      <td>...</td>\n",
              "      <td>...</td>\n",
              "      <td>...</td>\n",
              "      <td>...</td>\n",
              "      <td>...</td>\n",
              "      <td>...</td>\n",
              "      <td>...</td>\n",
              "      <td>...</td>\n",
              "    </tr>\n",
              "    <tr>\n",
              "      <th>20355</th>\n",
              "      <td>2018/19</td>\n",
              "      <td>4</td>\n",
              "      <td>London, City of</td>\n",
              "      <td>Endangering life</td>\n",
              "      <td>Violence against the person</td>\n",
              "      <td>Violence with injury</td>\n",
              "      <td>5E</td>\n",
              "      <td>-1</td>\n",
              "    </tr>\n",
              "    <tr>\n",
              "      <th>20377</th>\n",
              "      <td>2018/19</td>\n",
              "      <td>4</td>\n",
              "      <td>London, City of</td>\n",
              "      <td>Other drug offences</td>\n",
              "      <td>Drug offences</td>\n",
              "      <td>Possession of drugs</td>\n",
              "      <td>92C</td>\n",
              "      <td>-1</td>\n",
              "    </tr>\n",
              "    <tr>\n",
              "      <th>20395</th>\n",
              "      <td>2018/19</td>\n",
              "      <td>4</td>\n",
              "      <td>London, City of</td>\n",
              "      <td>Profiting from or concealing knowledge of the ...</td>\n",
              "      <td>Miscellaneous crimes against society</td>\n",
              "      <td>Miscellaneous crimes against society</td>\n",
              "      <td>38</td>\n",
              "      <td>-2</td>\n",
              "    </tr>\n",
              "    <tr>\n",
              "      <th>20415</th>\n",
              "      <td>2018/19</td>\n",
              "      <td>4</td>\n",
              "      <td>London, City of</td>\n",
              "      <td>Sexual assault on a male aged 13 and over</td>\n",
              "      <td>Sexual offences</td>\n",
              "      <td>Other sexual offences</td>\n",
              "      <td>17A</td>\n",
              "      <td>-1</td>\n",
              "    </tr>\n",
              "    <tr>\n",
              "      <th>20428</th>\n",
              "      <td>2018/19</td>\n",
              "      <td>4</td>\n",
              "      <td>London, City of</td>\n",
              "      <td>Theft or unauthorised taking of motor vehicle</td>\n",
              "      <td>Theft offences</td>\n",
              "      <td>Theft of a motor vehicle</td>\n",
              "      <td>48</td>\n",
              "      <td>-2</td>\n",
              "    </tr>\n",
              "  </tbody>\n",
              "</table>\n",
              "<p>426 rows × 8 columns</p>\n",
              "</div>\n",
              "    <div class=\"colab-df-buttons\">\n",
              "\n",
              "  <div class=\"colab-df-container\">\n",
              "    <button class=\"colab-df-convert\" onclick=\"convertToInteractive('df-6bc07227-f3ff-43e5-a067-f95eda1b3885')\"\n",
              "            title=\"Convert this dataframe to an interactive table.\"\n",
              "            style=\"display:none;\">\n",
              "\n",
              "  <svg xmlns=\"http://www.w3.org/2000/svg\" height=\"24px\" viewBox=\"0 -960 960 960\">\n",
              "    <path d=\"M120-120v-720h720v720H120Zm60-500h600v-160H180v160Zm220 220h160v-160H400v160Zm0 220h160v-160H400v160ZM180-400h160v-160H180v160Zm440 0h160v-160H620v160ZM180-180h160v-160H180v160Zm440 0h160v-160H620v160Z\"/>\n",
              "  </svg>\n",
              "    </button>\n",
              "\n",
              "  <style>\n",
              "    .colab-df-container {\n",
              "      display:flex;\n",
              "      gap: 12px;\n",
              "    }\n",
              "\n",
              "    .colab-df-convert {\n",
              "      background-color: #E8F0FE;\n",
              "      border: none;\n",
              "      border-radius: 50%;\n",
              "      cursor: pointer;\n",
              "      display: none;\n",
              "      fill: #1967D2;\n",
              "      height: 32px;\n",
              "      padding: 0 0 0 0;\n",
              "      width: 32px;\n",
              "    }\n",
              "\n",
              "    .colab-df-convert:hover {\n",
              "      background-color: #E2EBFA;\n",
              "      box-shadow: 0px 1px 2px rgba(60, 64, 67, 0.3), 0px 1px 3px 1px rgba(60, 64, 67, 0.15);\n",
              "      fill: #174EA6;\n",
              "    }\n",
              "\n",
              "    .colab-df-buttons div {\n",
              "      margin-bottom: 4px;\n",
              "    }\n",
              "\n",
              "    [theme=dark] .colab-df-convert {\n",
              "      background-color: #3B4455;\n",
              "      fill: #D2E3FC;\n",
              "    }\n",
              "\n",
              "    [theme=dark] .colab-df-convert:hover {\n",
              "      background-color: #434B5C;\n",
              "      box-shadow: 0px 1px 3px 1px rgba(0, 0, 0, 0.15);\n",
              "      filter: drop-shadow(0px 1px 2px rgba(0, 0, 0, 0.3));\n",
              "      fill: #FFFFFF;\n",
              "    }\n",
              "  </style>\n",
              "\n",
              "    <script>\n",
              "      const buttonEl =\n",
              "        document.querySelector('#df-6bc07227-f3ff-43e5-a067-f95eda1b3885 button.colab-df-convert');\n",
              "      buttonEl.style.display =\n",
              "        google.colab.kernel.accessAllowed ? 'block' : 'none';\n",
              "\n",
              "      async function convertToInteractive(key) {\n",
              "        const element = document.querySelector('#df-6bc07227-f3ff-43e5-a067-f95eda1b3885');\n",
              "        const dataTable =\n",
              "          await google.colab.kernel.invokeFunction('convertToInteractive',\n",
              "                                                    [key], {});\n",
              "        if (!dataTable) return;\n",
              "\n",
              "        const docLinkHtml = 'Like what you see? Visit the ' +\n",
              "          '<a target=\"_blank\" href=https://colab.research.google.com/notebooks/data_table.ipynb>data table notebook</a>'\n",
              "          + ' to learn more about interactive tables.';\n",
              "        element.innerHTML = '';\n",
              "        dataTable['output_type'] = 'display_data';\n",
              "        await google.colab.output.renderOutput(dataTable, element);\n",
              "        const docLink = document.createElement('div');\n",
              "        docLink.innerHTML = docLinkHtml;\n",
              "        element.appendChild(docLink);\n",
              "      }\n",
              "    </script>\n",
              "  </div>\n",
              "\n",
              "\n",
              "<div id=\"df-b6d3f175-c6a3-48f6-9e28-1c6e9dd3b0b9\">\n",
              "  <button class=\"colab-df-quickchart\" onclick=\"quickchart('df-b6d3f175-c6a3-48f6-9e28-1c6e9dd3b0b9')\"\n",
              "            title=\"Suggest charts\"\n",
              "            style=\"display:none;\">\n",
              "\n",
              "<svg xmlns=\"http://www.w3.org/2000/svg\" height=\"24px\"viewBox=\"0 0 24 24\"\n",
              "     width=\"24px\">\n",
              "    <g>\n",
              "        <path d=\"M19 3H5c-1.1 0-2 .9-2 2v14c0 1.1.9 2 2 2h14c1.1 0 2-.9 2-2V5c0-1.1-.9-2-2-2zM9 17H7v-7h2v7zm4 0h-2V7h2v10zm4 0h-2v-4h2v4z\"/>\n",
              "    </g>\n",
              "</svg>\n",
              "  </button>\n",
              "\n",
              "<style>\n",
              "  .colab-df-quickchart {\n",
              "      --bg-color: #E8F0FE;\n",
              "      --fill-color: #1967D2;\n",
              "      --hover-bg-color: #E2EBFA;\n",
              "      --hover-fill-color: #174EA6;\n",
              "      --disabled-fill-color: #AAA;\n",
              "      --disabled-bg-color: #DDD;\n",
              "  }\n",
              "\n",
              "  [theme=dark] .colab-df-quickchart {\n",
              "      --bg-color: #3B4455;\n",
              "      --fill-color: #D2E3FC;\n",
              "      --hover-bg-color: #434B5C;\n",
              "      --hover-fill-color: #FFFFFF;\n",
              "      --disabled-bg-color: #3B4455;\n",
              "      --disabled-fill-color: #666;\n",
              "  }\n",
              "\n",
              "  .colab-df-quickchart {\n",
              "    background-color: var(--bg-color);\n",
              "    border: none;\n",
              "    border-radius: 50%;\n",
              "    cursor: pointer;\n",
              "    display: none;\n",
              "    fill: var(--fill-color);\n",
              "    height: 32px;\n",
              "    padding: 0;\n",
              "    width: 32px;\n",
              "  }\n",
              "\n",
              "  .colab-df-quickchart:hover {\n",
              "    background-color: var(--hover-bg-color);\n",
              "    box-shadow: 0 1px 2px rgba(60, 64, 67, 0.3), 0 1px 3px 1px rgba(60, 64, 67, 0.15);\n",
              "    fill: var(--button-hover-fill-color);\n",
              "  }\n",
              "\n",
              "  .colab-df-quickchart-complete:disabled,\n",
              "  .colab-df-quickchart-complete:disabled:hover {\n",
              "    background-color: var(--disabled-bg-color);\n",
              "    fill: var(--disabled-fill-color);\n",
              "    box-shadow: none;\n",
              "  }\n",
              "\n",
              "  .colab-df-spinner {\n",
              "    border: 2px solid var(--fill-color);\n",
              "    border-color: transparent;\n",
              "    border-bottom-color: var(--fill-color);\n",
              "    animation:\n",
              "      spin 1s steps(1) infinite;\n",
              "  }\n",
              "\n",
              "  @keyframes spin {\n",
              "    0% {\n",
              "      border-color: transparent;\n",
              "      border-bottom-color: var(--fill-color);\n",
              "      border-left-color: var(--fill-color);\n",
              "    }\n",
              "    20% {\n",
              "      border-color: transparent;\n",
              "      border-left-color: var(--fill-color);\n",
              "      border-top-color: var(--fill-color);\n",
              "    }\n",
              "    30% {\n",
              "      border-color: transparent;\n",
              "      border-left-color: var(--fill-color);\n",
              "      border-top-color: var(--fill-color);\n",
              "      border-right-color: var(--fill-color);\n",
              "    }\n",
              "    40% {\n",
              "      border-color: transparent;\n",
              "      border-right-color: var(--fill-color);\n",
              "      border-top-color: var(--fill-color);\n",
              "    }\n",
              "    60% {\n",
              "      border-color: transparent;\n",
              "      border-right-color: var(--fill-color);\n",
              "    }\n",
              "    80% {\n",
              "      border-color: transparent;\n",
              "      border-right-color: var(--fill-color);\n",
              "      border-bottom-color: var(--fill-color);\n",
              "    }\n",
              "    90% {\n",
              "      border-color: transparent;\n",
              "      border-bottom-color: var(--fill-color);\n",
              "    }\n",
              "  }\n",
              "</style>\n",
              "\n",
              "  <script>\n",
              "    async function quickchart(key) {\n",
              "      const quickchartButtonEl =\n",
              "        document.querySelector('#' + key + ' button');\n",
              "      quickchartButtonEl.disabled = true;  // To prevent multiple clicks.\n",
              "      quickchartButtonEl.classList.add('colab-df-spinner');\n",
              "      try {\n",
              "        const charts = await google.colab.kernel.invokeFunction(\n",
              "            'suggestCharts', [key], {});\n",
              "      } catch (error) {\n",
              "        console.error('Error during call to suggestCharts:', error);\n",
              "      }\n",
              "      quickchartButtonEl.classList.remove('colab-df-spinner');\n",
              "      quickchartButtonEl.classList.add('colab-df-quickchart-complete');\n",
              "    }\n",
              "    (() => {\n",
              "      let quickchartButtonEl =\n",
              "        document.querySelector('#df-b6d3f175-c6a3-48f6-9e28-1c6e9dd3b0b9 button');\n",
              "      quickchartButtonEl.style.display =\n",
              "        google.colab.kernel.accessAllowed ? 'block' : 'none';\n",
              "    })();\n",
              "  </script>\n",
              "</div>\n",
              "\n",
              "    </div>\n",
              "  </div>\n"
            ]
          },
          "metadata": {},
          "execution_count": 66
        }
      ]
    },
    {
      "cell_type": "markdown",
      "source": [
        "**So we have a total of 426 rows with negative numbers for number of offences**"
      ],
      "metadata": {
        "id": "eP9nIoch_3Xg"
      }
    },
    {
      "cell_type": "markdown",
      "source": [
        "**Dropping the negative numbers**"
      ],
      "metadata": {
        "id": "zo1ZGO90AIuX"
      }
    },
    {
      "cell_type": "code",
      "source": [
        "#dropping the ouliners\n",
        "df = df[df[\"Number_of_Offences\"] >= 0]"
      ],
      "metadata": {
        "id": "MBwIzM7z_toS"
      },
      "execution_count": null,
      "outputs": []
    },
    {
      "cell_type": "code",
      "source": [
        "df.shape"
      ],
      "metadata": {
        "colab": {
          "base_uri": "https://localhost:8080/"
        },
        "id": "kPBNkeFVADtm",
        "outputId": "8805f3e3-4999-4597-fef6-9fbbb4a78b15"
      },
      "execution_count": null,
      "outputs": [
        {
          "output_type": "execute_result",
          "data": {
            "text/plain": [
              "(258479, 8)"
            ]
          },
          "metadata": {},
          "execution_count": 68
        }
      ]
    },
    {
      "cell_type": "markdown",
      "source": [
        "**Research Questions**\n",
        "1. To determine the offence group with the most offences.\n",
        "2. To find number times an offence code appeared.\n",
        "3. Force Name involved in the highest number of crimes committed."
      ],
      "metadata": {
        "id": "YNAKieSVAlPJ"
      }
    },
    {
      "cell_type": "markdown",
      "source": [
        "**RESEARCH QUESTION 1**"
      ],
      "metadata": {
        "id": "tbDGQX_9A08p"
      }
    },
    {
      "cell_type": "code",
      "source": [
        "df.groupby(df[\"Offence_Group\"])[\"Number_of_Offences\"].sum().sort_values()"
      ],
      "metadata": {
        "colab": {
          "base_uri": "https://localhost:8080/"
        },
        "id": "ZcPGLqmmAGWL",
        "outputId": "bba6a340-9aff-4b47-e637-dc9ef0e8c0f1"
      },
      "execution_count": null,
      "outputs": [
        {
          "output_type": "execute_result",
          "data": {
            "text/plain": [
              "Offence_Group\n",
              "Possession of weapons offences            419560\n",
              "Robbery                                   758697\n",
              "Miscellaneous crimes against society      964614\n",
              "Sexual offences                          1502567\n",
              "Drug offences                            1956518\n",
              "Public order offences                    4029470\n",
              "Criminal damage and arson                6040693\n",
              "Fraud offences                           8278687\n",
              "Violence against the person             15518904\n",
              "Theft offences                          20054697\n",
              "Name: Number_of_Offences, dtype: int64"
            ]
          },
          "metadata": {},
          "execution_count": 69
        }
      ]
    },
    {
      "cell_type": "markdown",
      "source": [
        "From the analyses, it was discovered that **Theft offences** was the most committed crime with over 20 million crime offenses as **Possession of weapons offences** came least with over 400 thousand crime offenses"
      ],
      "metadata": {
        "id": "mBpJWsMnBFs4"
      }
    },
    {
      "cell_type": "code",
      "source": [
        "group_rq1= df.groupby(\"Offence_Group\")[\"Number_of_Offences\"].sum().sort_values()\n",
        "group_rq1.plot.bar()\n",
        "plt.ylabel(\"Sum of Offences\")\n",
        "plt.xlabel(\"Offence Group\")\n",
        "plt.title(\"Research Question 1\")\n",
        "plt.show()"
      ],
      "metadata": {
        "colab": {
          "base_uri": "https://localhost:8080/",
          "height": 715
        },
        "id": "4aaFoZCZA6Tw",
        "outputId": "eb0a107c-bbe9-4280-f92e-9b026ca19c49"
      },
      "execution_count": null,
      "outputs": [
        {
          "output_type": "display_data",
          "data": {
            "text/plain": [
              "<Figure size 640x480 with 1 Axes>"
            ],
            "image/png": "[encoded data removed]"
          },
          "metadata": {}
        }
      ]
    },
    {
      "cell_type": "markdown",
      "source": [
        "**RESEARCH QUESTION 2**"
      ],
      "metadata": {
        "id": "ljKEvVKPBRsE"
      }
    },
    {
      "cell_type": "code",
      "source": [
        "# To find number times an offence code appeared.\n",
        "df[\"Offence_Code\"].value_counts().head(10)"
      ],
      "metadata": {
        "colab": {
          "base_uri": "https://localhost:8080/"
        },
        "id": "hnPWgT1ZBJzi",
        "outputId": "26347c35-2e50-4782-ccd8-d4c7e49269db"
      },
      "execution_count": null,
      "outputs": [
        {
          "output_type": "execute_result",
          "data": {
            "text/plain": [
              "4.1    3605\n",
              "802    1980\n",
              "54     1980\n",
              "58B    1980\n",
              "58A    1980\n",
              "58C    1980\n",
              "11A    1980\n",
              "46     1980\n",
              "43     1980\n",
              "28C    1980\n",
              "Name: Offence_Code, dtype: int64"
            ]
          },
          "metadata": {},
          "execution_count": 71
        }
      ]
    },
    {
      "cell_type": "markdown",
      "source": [
        "From the analyses, **Violence against the person** recorded higher number of occurences with 0 number of offences while **Robbery** recorded the least"
      ],
      "metadata": {
        "id": "uSLS6AgoBlZz"
      }
    },
    {
      "cell_type": "code",
      "source": [
        "group_rq2 = df[\"Offence_Code\"].value_counts().head(10)\n",
        "group_rq2.plot(kind = \"bar\")\n",
        "plt.ylabel(\"count\")\n",
        "plt.xlabel(\"offence code\")\n",
        "plt.title(\"Research Question 2\")\n",
        "plt.show()"
      ],
      "metadata": {
        "colab": {
          "base_uri": "https://localhost:8080/",
          "height": 485
        },
        "id": "UU90FpEJBZYW",
        "outputId": "300049bc-a31b-49a6-e790-a4465f5294e7"
      },
      "execution_count": null,
      "outputs": [
        {
          "output_type": "display_data",
          "data": {
            "text/plain": [
              "<Figure size 640x480 with 1 Axes>"
            ],
            "image/png": "[encoded data removed]"
          },
          "metadata": {}
        }
      ]
    },
    {
      "cell_type": "markdown",
      "source": [
        "**RESEARCH QUESTION 3**"
      ],
      "metadata": {
        "id": "vUSVNCTXBuCz"
      }
    },
    {
      "cell_type": "code",
      "source": [
        "#Finding the Force Name involved in the highest number of crimes committed\n",
        "df.groupby(\"Force_Name\")[\"Number_of_Offences\"].sum().sort_values()"
      ],
      "metadata": {
        "colab": {
          "base_uri": "https://localhost:8080/"
        },
        "id": "UTYXKXmPBjFt",
        "outputId": "1bb073f7-3611-453c-a789-492699799804"
      },
      "execution_count": null,
      "outputs": [
        {
          "output_type": "execute_result",
          "data": {
            "text/plain": [
              "Force_Name\n",
              "London, City of                68079\n",
              "Dyfed-Powys                   321478\n",
              "Cumbria                       343605\n",
              "Warwickshire                  408936\n",
              "Gloucestershire               417484\n",
              "Wiltshire                     443198\n",
              "North Yorkshire               458475\n",
              "Lincolnshire                  510450\n",
              "Bedfordshire                  518159\n",
              "Dorset                        522780\n",
              "Financial Fraud Action UK     523390\n",
              "Gwent                         525375\n",
              "Suffolk                       531121\n",
              "North Wales                   560945\n",
              "Durham                        565120\n",
              "British Transport Police      609130\n",
              "Norfolk                       617978\n",
              "Northamptonshire              618515\n",
              "Cleveland                     654395\n",
              "Cambridgeshire                660475\n",
              "Derbyshire                    730685\n",
              "Surrey                        733058\n",
              "Hertfordshire                 793224\n",
              "Staffordshire                 833262\n",
              "Cheshire                      845868\n",
              "West Mercia                   873201\n",
              "Leicestershire                899636\n",
              "Humberside                    938242\n",
              "Nottinghamshire               993994\n",
              "Devon and Cornwall           1045108\n",
              "Cifas                        1077081\n",
              "South Wales                  1103647\n",
              "UK Finance                   1200608\n",
              "Sussex                       1213082\n",
              "Northumbria                  1328330\n",
              "Lancashire                   1344483\n",
              "Merseyside                   1397257\n",
              "Avon and Somerset            1411830\n",
              "South Yorkshire              1419554\n",
              "Essex                        1509933\n",
              "Hampshire                    1612454\n",
              "Thames Valley                1684546\n",
              "Kent                         1693164\n",
              "CIFAS                        2231228\n",
              "West Yorkshire               2712176\n",
              "West Midlands                2754135\n",
              "Greater Manchester           3118929\n",
              "Action Fraud                 3183118\n",
              "Metropolitan Police          8963486\n",
              "Name: Number_of_Offences, dtype: int64"
            ]
          },
          "metadata": {},
          "execution_count": 42
        }
      ]
    },
    {
      "cell_type": "markdown",
      "source": [
        "The **Metropolitan Police** were involved with the most number of crimes while **London, City of** had the least number of crimes"
      ],
      "metadata": {
        "id": "kSjrZDISEKVn"
      }
    },
    {
      "cell_type": "code",
      "source": [
        "group_rq3 = df.groupby(\"Force_Name\")[\"Number_of_Offences\"].sum().sort_values()\n",
        "plt.figure(figsize=(10,8))\n",
        "group_rq3.plot.bar()\n",
        "plt.ylabel(\"sum of offences\")\n",
        "plt.xlabel(\"Force Name\")\n",
        "plt.title(\"Research Question 3\")\n",
        "plt.show()"
      ],
      "metadata": {
        "colab": {
          "base_uri": "https://localhost:8080/",
          "height": 880
        },
        "id": "CIYXhPGTEH3o",
        "outputId": "b59feed2-919c-4532-acf3-e8368676adae"
      },
      "execution_count": null,
      "outputs": [
        {
          "output_type": "display_data",
          "data": {
            "text/plain": [
              "<Figure size 1000x800 with 1 Axes>"
            ],
            "image/png": "[encoded data removed]"
          },
          "metadata": {}
        }
      ]
    },
    {
      "cell_type": "code",
      "source": [
        "df.drop([\"Financial_Year\", \"Financial_Quarter\", \"Offence_Code\", \"Number_of_Offences\"], axis=1, inplace=True)"
      ],
      "metadata": {
        "id": "HXei9rCeE32c"
      },
      "execution_count": null,
      "outputs": []
    },
    {
      "cell_type": "code",
      "source": [
        "df.head()"
      ],
      "metadata": {
        "colab": {
          "base_uri": "https://localhost:8080/",
          "height": 276
        },
        "id": "lrz8NDuNpbEx",
        "outputId": "4f75d2fe-93c7-4f62-f4ac-ff1c4f94c19d"
      },
      "execution_count": null,
      "outputs": [
        {
          "output_type": "execute_result",
          "data": {
            "text/plain": [
              "          Force_Name                                Offence_Description  \\\n",
              "0       Action Fraud            Fraud offences recorded by Action Fraud   \n",
              "2  Avon and Somerset                     Absconding from lawful custody   \n",
              "4  Avon and Somerset      Abuse of position of trust of a sexual nature   \n",
              "7  Avon and Somerset  Aggravated burglary in a building other than a...   \n",
              "8  Avon and Somerset                  Aggravated burglary in a dwelling   \n",
              "\n",
              "                          Offence_Group                      Offence_Subgroup  \n",
              "0                        Fraud offences                   Fraud: Action Fraud  \n",
              "2  Miscellaneous crimes against society  Miscellaneous crimes against society  \n",
              "4                       Sexual offences                 Other sexual offences  \n",
              "7                        Theft offences                 Non-domestic burglary  \n",
              "8                        Theft offences                     Domestic burglary  "
            ],
            "text/html": [
              "\n",
              "  <div id=\"df-38edd44a-f20d-45e7-943f-70ebf8d2d3df\" class=\"colab-df-container\">\n",
              "    <div>\n",
              "<style scoped>\n",
              "    .dataframe tbody tr th:only-of-type {\n",
              "        vertical-align: middle;\n",
              "    }\n",
              "\n",
              "    .dataframe tbody tr th {\n",
              "        vertical-align: top;\n",
              "    }\n",
              "\n",
              "    .dataframe thead th {\n",
              "        text-align: right;\n",
              "    }\n",
              "</style>\n",
              "<table border=\"1\" class=\"dataframe\">\n",
              "  <thead>\n",
              "    <tr style=\"text-align: right;\">\n",
              "      <th></th>\n",
              "      <th>Force_Name</th>\n",
              "      <th>Offence_Description</th>\n",
              "      <th>Offence_Group</th>\n",
              "      <th>Offence_Subgroup</th>\n",
              "    </tr>\n",
              "  </thead>\n",
              "  <tbody>\n",
              "    <tr>\n",
              "      <th>0</th>\n",
              "      <td>Action Fraud</td>\n",
              "      <td>Fraud offences recorded by Action Fraud</td>\n",
              "      <td>Fraud offences</td>\n",
              "      <td>Fraud: Action Fraud</td>\n",
              "    </tr>\n",
              "    <tr>\n",
              "      <th>2</th>\n",
              "      <td>Avon and Somerset</td>\n",
              "      <td>Absconding from lawful custody</td>\n",
              "      <td>Miscellaneous crimes against society</td>\n",
              "      <td>Miscellaneous crimes against society</td>\n",
              "    </tr>\n",
              "    <tr>\n",
              "      <th>4</th>\n",
              "      <td>Avon and Somerset</td>\n",
              "      <td>Abuse of position of trust of a sexual nature</td>\n",
              "      <td>Sexual offences</td>\n",
              "      <td>Other sexual offences</td>\n",
              "    </tr>\n",
              "    <tr>\n",
              "      <th>7</th>\n",
              "      <td>Avon and Somerset</td>\n",
              "      <td>Aggravated burglary in a building other than a...</td>\n",
              "      <td>Theft offences</td>\n",
              "      <td>Non-domestic burglary</td>\n",
              "    </tr>\n",
              "    <tr>\n",
              "      <th>8</th>\n",
              "      <td>Avon and Somerset</td>\n",
              "      <td>Aggravated burglary in a dwelling</td>\n",
              "      <td>Theft offences</td>\n",
              "      <td>Domestic burglary</td>\n",
              "    </tr>\n",
              "  </tbody>\n",
              "</table>\n",
              "</div>\n",
              "    <div class=\"colab-df-buttons\">\n",
              "\n",
              "  <div class=\"colab-df-container\">\n",
              "    <button class=\"colab-df-convert\" onclick=\"convertToInteractive('df-38edd44a-f20d-45e7-943f-70ebf8d2d3df')\"\n",
              "            title=\"Convert this dataframe to an interactive table.\"\n",
              "            style=\"display:none;\">\n",
              "\n",
              "  <svg xmlns=\"http://www.w3.org/2000/svg\" height=\"24px\" viewBox=\"0 -960 960 960\">\n",
              "    <path d=\"M120-120v-720h720v720H120Zm60-500h600v-160H180v160Zm220 220h160v-160H400v160Zm0 220h160v-160H400v160ZM180-400h160v-160H180v160Zm440 0h160v-160H620v160ZM180-180h160v-160H180v160Zm440 0h160v-160H620v160Z\"/>\n",
              "  </svg>\n",
              "    </button>\n",
              "\n",
              "  <style>\n",
              "    .colab-df-container {\n",
              "      display:flex;\n",
              "      gap: 12px;\n",
              "    }\n",
              "\n",
              "    .colab-df-convert {\n",
              "      background-color: #E8F0FE;\n",
              "      border: none;\n",
              "      border-radius: 50%;\n",
              "      cursor: pointer;\n",
              "      display: none;\n",
              "      fill: #1967D2;\n",
              "      height: 32px;\n",
              "      padding: 0 0 0 0;\n",
              "      width: 32px;\n",
              "    }\n",
              "\n",
              "    .colab-df-convert:hover {\n",
              "      background-color: #E2EBFA;\n",
              "      box-shadow: 0px 1px 2px rgba(60, 64, 67, 0.3), 0px 1px 3px 1px rgba(60, 64, 67, 0.15);\n",
              "      fill: #174EA6;\n",
              "    }\n",
              "\n",
              "    .colab-df-buttons div {\n",
              "      margin-bottom: 4px;\n",
              "    }\n",
              "\n",
              "    [theme=dark] .colab-df-convert {\n",
              "      background-color: #3B4455;\n",
              "      fill: #D2E3FC;\n",
              "    }\n",
              "\n",
              "    [theme=dark] .colab-df-convert:hover {\n",
              "      background-color: #434B5C;\n",
              "      box-shadow: 0px 1px 3px 1px rgba(0, 0, 0, 0.15);\n",
              "      filter: drop-shadow(0px 1px 2px rgba(0, 0, 0, 0.3));\n",
              "      fill: #FFFFFF;\n",
              "    }\n",
              "  </style>\n",
              "\n",
              "    <script>\n",
              "      const buttonEl =\n",
              "        document.querySelector('#df-38edd44a-f20d-45e7-943f-70ebf8d2d3df button.colab-df-convert');\n",
              "      buttonEl.style.display =\n",
              "        google.colab.kernel.accessAllowed ? 'block' : 'none';\n",
              "\n",
              "      async function convertToInteractive(key) {\n",
              "        const element = document.querySelector('#df-38edd44a-f20d-45e7-943f-70ebf8d2d3df');\n",
              "        const dataTable =\n",
              "          await google.colab.kernel.invokeFunction('convertToInteractive',\n",
              "                                                    [key], {});\n",
              "        if (!dataTable) return;\n",
              "\n",
              "        const docLinkHtml = 'Like what you see? Visit the ' +\n",
              "          '<a target=\"_blank\" href=https://colab.research.google.com/notebooks/data_table.ipynb>data table notebook</a>'\n",
              "          + ' to learn more about interactive tables.';\n",
              "        element.innerHTML = '';\n",
              "        dataTable['output_type'] = 'display_data';\n",
              "        await google.colab.output.renderOutput(dataTable, element);\n",
              "        const docLink = document.createElement('div');\n",
              "        docLink.innerHTML = docLinkHtml;\n",
              "        element.appendChild(docLink);\n",
              "      }\n",
              "    </script>\n",
              "  </div>\n",
              "\n",
              "\n",
              "<div id=\"df-f1e9a456-557a-4b16-bf24-67f7ac8e1a6c\">\n",
              "  <button class=\"colab-df-quickchart\" onclick=\"quickchart('df-f1e9a456-557a-4b16-bf24-67f7ac8e1a6c')\"\n",
              "            title=\"Suggest charts\"\n",
              "            style=\"display:none;\">\n",
              "\n",
              "<svg xmlns=\"http://www.w3.org/2000/svg\" height=\"24px\"viewBox=\"0 0 24 24\"\n",
              "     width=\"24px\">\n",
              "    <g>\n",
              "        <path d=\"M19 3H5c-1.1 0-2 .9-2 2v14c0 1.1.9 2 2 2h14c1.1 0 2-.9 2-2V5c0-1.1-.9-2-2-2zM9 17H7v-7h2v7zm4 0h-2V7h2v10zm4 0h-2v-4h2v4z\"/>\n",
              "    </g>\n",
              "</svg>\n",
              "  </button>\n",
              "\n",
              "<style>\n",
              "  .colab-df-quickchart {\n",
              "      --bg-color: #E8F0FE;\n",
              "      --fill-color: #1967D2;\n",
              "      --hover-bg-color: #E2EBFA;\n",
              "      --hover-fill-color: #174EA6;\n",
              "      --disabled-fill-color: #AAA;\n",
              "      --disabled-bg-color: #DDD;\n",
              "  }\n",
              "\n",
              "  [theme=dark] .colab-df-quickchart {\n",
              "      --bg-color: #3B4455;\n",
              "      --fill-color: #D2E3FC;\n",
              "      --hover-bg-color: #434B5C;\n",
              "      --hover-fill-color: #FFFFFF;\n",
              "      --disabled-bg-color: #3B4455;\n",
              "      --disabled-fill-color: #666;\n",
              "  }\n",
              "\n",
              "  .colab-df-quickchart {\n",
              "    background-color: var(--bg-color);\n",
              "    border: none;\n",
              "    border-radius: 50%;\n",
              "    cursor: pointer;\n",
              "    display: none;\n",
              "    fill: var(--fill-color);\n",
              "    height: 32px;\n",
              "    padding: 0;\n",
              "    width: 32px;\n",
              "  }\n",
              "\n",
              "  .colab-df-quickchart:hover {\n",
              "    background-color: var(--hover-bg-color);\n",
              "    box-shadow: 0 1px 2px rgba(60, 64, 67, 0.3), 0 1px 3px 1px rgba(60, 64, 67, 0.15);\n",
              "    fill: var(--button-hover-fill-color);\n",
              "  }\n",
              "\n",
              "  .colab-df-quickchart-complete:disabled,\n",
              "  .colab-df-quickchart-complete:disabled:hover {\n",
              "    background-color: var(--disabled-bg-color);\n",
              "    fill: var(--disabled-fill-color);\n",
              "    box-shadow: none;\n",
              "  }\n",
              "\n",
              "  .colab-df-spinner {\n",
              "    border: 2px solid var(--fill-color);\n",
              "    border-color: transparent;\n",
              "    border-bottom-color: var(--fill-color);\n",
              "    animation:\n",
              "      spin 1s steps(1) infinite;\n",
              "  }\n",
              "\n",
              "  @keyframes spin {\n",
              "    0% {\n",
              "      border-color: transparent;\n",
              "      border-bottom-color: var(--fill-color);\n",
              "      border-left-color: var(--fill-color);\n",
              "    }\n",
              "    20% {\n",
              "      border-color: transparent;\n",
              "      border-left-color: var(--fill-color);\n",
              "      border-top-color: var(--fill-color);\n",
              "    }\n",
              "    30% {\n",
              "      border-color: transparent;\n",
              "      border-left-color: var(--fill-color);\n",
              "      border-top-color: var(--fill-color);\n",
              "      border-right-color: var(--fill-color);\n",
              "    }\n",
              "    40% {\n",
              "      border-color: transparent;\n",
              "      border-right-color: var(--fill-color);\n",
              "      border-top-color: var(--fill-color);\n",
              "    }\n",
              "    60% {\n",
              "      border-color: transparent;\n",
              "      border-right-color: var(--fill-color);\n",
              "    }\n",
              "    80% {\n",
              "      border-color: transparent;\n",
              "      border-right-color: var(--fill-color);\n",
              "      border-bottom-color: var(--fill-color);\n",
              "    }\n",
              "    90% {\n",
              "      border-color: transparent;\n",
              "      border-bottom-color: var(--fill-color);\n",
              "    }\n",
              "  }\n",
              "</style>\n",
              "\n",
              "  <script>\n",
              "    async function quickchart(key) {\n",
              "      const quickchartButtonEl =\n",
              "        document.querySelector('#' + key + ' button');\n",
              "      quickchartButtonEl.disabled = true;  // To prevent multiple clicks.\n",
              "      quickchartButtonEl.classList.add('colab-df-spinner');\n",
              "      try {\n",
              "        const charts = await google.colab.kernel.invokeFunction(\n",
              "            'suggestCharts', [key], {});\n",
              "      } catch (error) {\n",
              "        console.error('Error during call to suggestCharts:', error);\n",
              "      }\n",
              "      quickchartButtonEl.classList.remove('colab-df-spinner');\n",
              "      quickchartButtonEl.classList.add('colab-df-quickchart-complete');\n",
              "    }\n",
              "    (() => {\n",
              "      let quickchartButtonEl =\n",
              "        document.querySelector('#df-f1e9a456-557a-4b16-bf24-67f7ac8e1a6c button');\n",
              "      quickchartButtonEl.style.display =\n",
              "        google.colab.kernel.accessAllowed ? 'block' : 'none';\n",
              "    })();\n",
              "  </script>\n",
              "</div>\n",
              "\n",
              "    </div>\n",
              "  </div>\n"
            ]
          },
          "metadata": {},
          "execution_count": 45
        }
      ]
    },
    {
      "cell_type": "markdown",
      "source": [
        "**Encoding all categorical values to Numerical values**"
      ],
      "metadata": {
        "id": "1ss0lGe1pt8l"
      }
    },
    {
      "cell_type": "code",
      "source": [
        "from sklearn.preprocessing import LabelEncoder"
      ],
      "metadata": {
        "id": "GOAhZwcTpeiy"
      },
      "execution_count": null,
      "outputs": []
    },
    {
      "cell_type": "code",
      "source": [
        "le = LabelEncoder()"
      ],
      "metadata": {
        "id": "fl7CjFQRp6EH"
      },
      "execution_count": null,
      "outputs": []
    },
    {
      "cell_type": "code",
      "source": [
        "df[\"Force_Name\"] = le.fit_transform(df[\"Force_Name\"])\n",
        "df[\"Offence_Description\"] = le.fit_transform(df[\"Offence_Description\"])\n",
        "df[\"Offence_Group\"] = le.fit_transform(df[\"Offence_Group\"])\n",
        "df[\"Offence_Subgroup\"] = le.fit_transform(df[\"Offence_Subgroup\"])"
      ],
      "metadata": {
        "id": "26XYQ5vxp8_x"
      },
      "execution_count": null,
      "outputs": []
    },
    {
      "cell_type": "code",
      "source": [
        "df.head()"
      ],
      "metadata": {
        "colab": {
          "base_uri": "https://localhost:8080/",
          "height": 206
        },
        "id": "ghmi_dohqChi",
        "outputId": "06c4ac0b-12c1-45b7-e6e1-006a05a5b5ec"
      },
      "execution_count": null,
      "outputs": [
        {
          "output_type": "execute_result",
          "data": {
            "text/plain": [
              "   Force_Name  Offence_Description  Offence_Group  Offence_Subgroup\n",
              "0           0                   90              2                 6\n",
              "1           1                    0              9                30\n",
              "2           1                    1              3                12\n",
              "3           1                    2              7                14\n",
              "4           1                    4              7                14"
            ],
            "text/html": [
              "\n",
              "  <div id=\"df-36f20cb0-6364-4486-8581-93f604b0164f\" class=\"colab-df-container\">\n",
              "    <div>\n",
              "<style scoped>\n",
              "    .dataframe tbody tr th:only-of-type {\n",
              "        vertical-align: middle;\n",
              "    }\n",
              "\n",
              "    .dataframe tbody tr th {\n",
              "        vertical-align: top;\n",
              "    }\n",
              "\n",
              "    .dataframe thead th {\n",
              "        text-align: right;\n",
              "    }\n",
              "</style>\n",
              "<table border=\"1\" class=\"dataframe\">\n",
              "  <thead>\n",
              "    <tr style=\"text-align: right;\">\n",
              "      <th></th>\n",
              "      <th>Force_Name</th>\n",
              "      <th>Offence_Description</th>\n",
              "      <th>Offence_Group</th>\n",
              "      <th>Offence_Subgroup</th>\n",
              "    </tr>\n",
              "  </thead>\n",
              "  <tbody>\n",
              "    <tr>\n",
              "      <th>0</th>\n",
              "      <td>0</td>\n",
              "      <td>90</td>\n",
              "      <td>2</td>\n",
              "      <td>6</td>\n",
              "    </tr>\n",
              "    <tr>\n",
              "      <th>1</th>\n",
              "      <td>1</td>\n",
              "      <td>0</td>\n",
              "      <td>9</td>\n",
              "      <td>30</td>\n",
              "    </tr>\n",
              "    <tr>\n",
              "      <th>2</th>\n",
              "      <td>1</td>\n",
              "      <td>1</td>\n",
              "      <td>3</td>\n",
              "      <td>12</td>\n",
              "    </tr>\n",
              "    <tr>\n",
              "      <th>3</th>\n",
              "      <td>1</td>\n",
              "      <td>2</td>\n",
              "      <td>7</td>\n",
              "      <td>14</td>\n",
              "    </tr>\n",
              "    <tr>\n",
              "      <th>4</th>\n",
              "      <td>1</td>\n",
              "      <td>4</td>\n",
              "      <td>7</td>\n",
              "      <td>14</td>\n",
              "    </tr>\n",
              "  </tbody>\n",
              "</table>\n",
              "</div>\n",
              "    <div class=\"colab-df-buttons\">\n",
              "\n",
              "  <div class=\"colab-df-container\">\n",
              "    <button class=\"colab-df-convert\" onclick=\"convertToInteractive('df-36f20cb0-6364-4486-8581-93f604b0164f')\"\n",
              "            title=\"Convert this dataframe to an interactive table.\"\n",
              "            style=\"display:none;\">\n",
              "\n",
              "  <svg xmlns=\"http://www.w3.org/2000/svg\" height=\"24px\" viewBox=\"0 -960 960 960\">\n",
              "    <path d=\"M120-120v-720h720v720H120Zm60-500h600v-160H180v160Zm220 220h160v-160H400v160Zm0 220h160v-160H400v160ZM180-400h160v-160H180v160Zm440 0h160v-160H620v160ZM180-180h160v-160H180v160Zm440 0h160v-160H620v160Z\"/>\n",
              "  </svg>\n",
              "    </button>\n",
              "\n",
              "  <style>\n",
              "    .colab-df-container {\n",
              "      display:flex;\n",
              "      gap: 12px;\n",
              "    }\n",
              "\n",
              "    .colab-df-convert {\n",
              "      background-color: #E8F0FE;\n",
              "      border: none;\n",
              "      border-radius: 50%;\n",
              "      cursor: pointer;\n",
              "      display: none;\n",
              "      fill: #1967D2;\n",
              "      height: 32px;\n",
              "      padding: 0 0 0 0;\n",
              "      width: 32px;\n",
              "    }\n",
              "\n",
              "    .colab-df-convert:hover {\n",
              "      background-color: #E2EBFA;\n",
              "      box-shadow: 0px 1px 2px rgba(60, 64, 67, 0.3), 0px 1px 3px 1px rgba(60, 64, 67, 0.15);\n",
              "      fill: #174EA6;\n",
              "    }\n",
              "\n",
              "    .colab-df-buttons div {\n",
              "      margin-bottom: 4px;\n",
              "    }\n",
              "\n",
              "    [theme=dark] .colab-df-convert {\n",
              "      background-color: #3B4455;\n",
              "      fill: #D2E3FC;\n",
              "    }\n",
              "\n",
              "    [theme=dark] .colab-df-convert:hover {\n",
              "      background-color: #434B5C;\n",
              "      box-shadow: 0px 1px 3px 1px rgba(0, 0, 0, 0.15);\n",
              "      filter: drop-shadow(0px 1px 2px rgba(0, 0, 0, 0.3));\n",
              "      fill: #FFFFFF;\n",
              "    }\n",
              "  </style>\n",
              "\n",
              "    <script>\n",
              "      const buttonEl =\n",
              "        document.querySelector('#df-36f20cb0-6364-4486-8581-93f604b0164f button.colab-df-convert');\n",
              "      buttonEl.style.display =\n",
              "        google.colab.kernel.accessAllowed ? 'block' : 'none';\n",
              "\n",
              "      async function convertToInteractive(key) {\n",
              "        const element = document.querySelector('#df-36f20cb0-6364-4486-8581-93f604b0164f');\n",
              "        const dataTable =\n",
              "          await google.colab.kernel.invokeFunction('convertToInteractive',\n",
              "                                                    [key], {});\n",
              "        if (!dataTable) return;\n",
              "\n",
              "        const docLinkHtml = 'Like what you see? Visit the ' +\n",
              "          '<a target=\"_blank\" href=https://colab.research.google.com/notebooks/data_table.ipynb>data table notebook</a>'\n",
              "          + ' to learn more about interactive tables.';\n",
              "        element.innerHTML = '';\n",
              "        dataTable['output_type'] = 'display_data';\n",
              "        await google.colab.output.renderOutput(dataTable, element);\n",
              "        const docLink = document.createElement('div');\n",
              "        docLink.innerHTML = docLinkHtml;\n",
              "        element.appendChild(docLink);\n",
              "      }\n",
              "    </script>\n",
              "  </div>\n",
              "\n",
              "\n",
              "<div id=\"df-67ef6cb5-452c-4d44-a1b5-9dfc59f3508a\">\n",
              "  <button class=\"colab-df-quickchart\" onclick=\"quickchart('df-67ef6cb5-452c-4d44-a1b5-9dfc59f3508a')\"\n",
              "            title=\"Suggest charts\"\n",
              "            style=\"display:none;\">\n",
              "\n",
              "<svg xmlns=\"http://www.w3.org/2000/svg\" height=\"24px\"viewBox=\"0 0 24 24\"\n",
              "     width=\"24px\">\n",
              "    <g>\n",
              "        <path d=\"M19 3H5c-1.1 0-2 .9-2 2v14c0 1.1.9 2 2 2h14c1.1 0 2-.9 2-2V5c0-1.1-.9-2-2-2zM9 17H7v-7h2v7zm4 0h-2V7h2v10zm4 0h-2v-4h2v4z\"/>\n",
              "    </g>\n",
              "</svg>\n",
              "  </button>\n",
              "\n",
              "<style>\n",
              "  .colab-df-quickchart {\n",
              "      --bg-color: #E8F0FE;\n",
              "      --fill-color: #1967D2;\n",
              "      --hover-bg-color: #E2EBFA;\n",
              "      --hover-fill-color: #174EA6;\n",
              "      --disabled-fill-color: #AAA;\n",
              "      --disabled-bg-color: #DDD;\n",
              "  }\n",
              "\n",
              "  [theme=dark] .colab-df-quickchart {\n",
              "      --bg-color: #3B4455;\n",
              "      --fill-color: #D2E3FC;\n",
              "      --hover-bg-color: #434B5C;\n",
              "      --hover-fill-color: #FFFFFF;\n",
              "      --disabled-bg-color: #3B4455;\n",
              "      --disabled-fill-color: #666;\n",
              "  }\n",
              "\n",
              "  .colab-df-quickchart {\n",
              "    background-color: var(--bg-color);\n",
              "    border: none;\n",
              "    border-radius: 50%;\n",
              "    cursor: pointer;\n",
              "    display: none;\n",
              "    fill: var(--fill-color);\n",
              "    height: 32px;\n",
              "    padding: 0;\n",
              "    width: 32px;\n",
              "  }\n",
              "\n",
              "  .colab-df-quickchart:hover {\n",
              "    background-color: var(--hover-bg-color);\n",
              "    box-shadow: 0 1px 2px rgba(60, 64, 67, 0.3), 0 1px 3px 1px rgba(60, 64, 67, 0.15);\n",
              "    fill: var(--button-hover-fill-color);\n",
              "  }\n",
              "\n",
              "  .colab-df-quickchart-complete:disabled,\n",
              "  .colab-df-quickchart-complete:disabled:hover {\n",
              "    background-color: var(--disabled-bg-color);\n",
              "    fill: var(--disabled-fill-color);\n",
              "    box-shadow: none;\n",
              "  }\n",
              "\n",
              "  .colab-df-spinner {\n",
              "    border: 2px solid var(--fill-color);\n",
              "    border-color: transparent;\n",
              "    border-bottom-color: var(--fill-color);\n",
              "    animation:\n",
              "      spin 1s steps(1) infinite;\n",
              "  }\n",
              "\n",
              "  @keyframes spin {\n",
              "    0% {\n",
              "      border-color: transparent;\n",
              "      border-bottom-color: var(--fill-color);\n",
              "      border-left-color: var(--fill-color);\n",
              "    }\n",
              "    20% {\n",
              "      border-color: transparent;\n",
              "      border-left-color: var(--fill-color);\n",
              "      border-top-color: var(--fill-color);\n",
              "    }\n",
              "    30% {\n",
              "      border-color: transparent;\n",
              "      border-left-color: var(--fill-color);\n",
              "      border-top-color: var(--fill-color);\n",
              "      border-right-color: var(--fill-color);\n",
              "    }\n",
              "    40% {\n",
              "      border-color: transparent;\n",
              "      border-right-color: var(--fill-color);\n",
              "      border-top-color: var(--fill-color);\n",
              "    }\n",
              "    60% {\n",
              "      border-color: transparent;\n",
              "      border-right-color: var(--fill-color);\n",
              "    }\n",
              "    80% {\n",
              "      border-color: transparent;\n",
              "      border-right-color: var(--fill-color);\n",
              "      border-bottom-color: var(--fill-color);\n",
              "    }\n",
              "    90% {\n",
              "      border-color: transparent;\n",
              "      border-bottom-color: var(--fill-color);\n",
              "    }\n",
              "  }\n",
              "</style>\n",
              "\n",
              "  <script>\n",
              "    async function quickchart(key) {\n",
              "      const quickchartButtonEl =\n",
              "        document.querySelector('#' + key + ' button');\n",
              "      quickchartButtonEl.disabled = true;  // To prevent multiple clicks.\n",
              "      quickchartButtonEl.classList.add('colab-df-spinner');\n",
              "      try {\n",
              "        const charts = await google.colab.kernel.invokeFunction(\n",
              "            'suggestCharts', [key], {});\n",
              "      } catch (error) {\n",
              "        console.error('Error during call to suggestCharts:', error);\n",
              "      }\n",
              "      quickchartButtonEl.classList.remove('colab-df-spinner');\n",
              "      quickchartButtonEl.classList.add('colab-df-quickchart-complete');\n",
              "    }\n",
              "    (() => {\n",
              "      let quickchartButtonEl =\n",
              "        document.querySelector('#df-67ef6cb5-452c-4d44-a1b5-9dfc59f3508a button');\n",
              "      quickchartButtonEl.style.display =\n",
              "        google.colab.kernel.accessAllowed ? 'block' : 'none';\n",
              "    })();\n",
              "  </script>\n",
              "</div>\n",
              "\n",
              "    </div>\n",
              "  </div>\n"
            ]
          },
          "metadata": {},
          "execution_count": 35
        }
      ]
    },
    {
      "cell_type": "code",
      "source": [
        "from sklearn.model_selection import train_test_split"
      ],
      "metadata": {
        "id": "f9HdHEqRqGeL"
      },
      "execution_count": null,
      "outputs": []
    },
    {
      "cell_type": "code",
      "source": [
        "x = df.drop([\"Offence_Group\"], axis = 1)\n",
        "y = df[\"Offence_Group\"]"
      ],
      "metadata": {
        "id": "b-EdLTHLqKyP"
      },
      "execution_count": null,
      "outputs": []
    },
    {
      "cell_type": "code",
      "source": [
        "x_train, x_test, y_train, y_test = train_test_split(x,y, test_size = 0.2, random_state = 2)"
      ],
      "metadata": {
        "id": "kA2OTXrHqNme"
      },
      "execution_count": null,
      "outputs": []
    },
    {
      "cell_type": "markdown",
      "source": [
        "**Importing all three ML algorithms for Classification**"
      ],
      "metadata": {
        "id": "rb-DAlfNqVyX"
      }
    },
    {
      "cell_type": "code",
      "source": [
        "from sklearn.tree import DecisionTreeClassifier\n",
        "from sklearn.ensemble import RandomForestClassifier\n",
        "from sklearn.svm import SVC"
      ],
      "metadata": {
        "id": "ID6_gLNmqRpR"
      },
      "execution_count": null,
      "outputs": []
    },
    {
      "cell_type": "code",
      "source": [
        "#For Decision Tree Classfier\n",
        "dt = DecisionTreeClassifier()\n",
        "dt_model = dt.fit(x_train,y_train)"
      ],
      "metadata": {
        "id": "IYUMtZBUqoB8"
      },
      "execution_count": null,
      "outputs": []
    },
    {
      "cell_type": "code",
      "source": [
        "dt_model_prediction = dt.predict(x_test)"
      ],
      "metadata": {
        "id": "NZEoI__xqs3p"
      },
      "execution_count": null,
      "outputs": []
    },
    {
      "cell_type": "code",
      "source": [
        "from sklearn.metrics import accuracy_score"
      ],
      "metadata": {
        "id": "1K8RaSpNq1yB"
      },
      "execution_count": null,
      "outputs": []
    },
    {
      "cell_type": "code",
      "source": [
        "data_accuracy = accuracy_score(dt_model_prediction, y_test)"
      ],
      "metadata": {
        "id": "Umr_aP_sq9Kl"
      },
      "execution_count": null,
      "outputs": []
    },
    {
      "cell_type": "code",
      "source": [
        "print(data_accuracy)"
      ],
      "metadata": {
        "colab": {
          "base_uri": "https://localhost:8080/"
        },
        "id": "JR-Q1D9PrFnG",
        "outputId": "fabc62f6-67b6-4ab9-abab-ed133ee911bc"
      },
      "execution_count": null,
      "outputs": [
        {
          "output_type": "stream",
          "name": "stdout",
          "text": [
            "1.0\n"
          ]
        }
      ]
    },
    {
      "cell_type": "code",
      "source": [
        "#For Random Forest Classfier\n",
        "rf = RandomForestClassifier()\n",
        "rf_model = rf.fit(x_train,y_train)"
      ],
      "metadata": {
        "id": "UKrnHtT9rIWS"
      },
      "execution_count": null,
      "outputs": []
    },
    {
      "cell_type": "code",
      "source": [
        "rf_model_prediction = rf.predict(x_test)"
      ],
      "metadata": {
        "id": "iW_kze2brQyi"
      },
      "execution_count": null,
      "outputs": []
    },
    {
      "cell_type": "code",
      "source": [
        "data_accuracy_rf = accuracy_score(rf_model_prediction, y_test)"
      ],
      "metadata": {
        "id": "x7Yle1Pyrih0"
      },
      "execution_count": null,
      "outputs": []
    },
    {
      "cell_type": "code",
      "source": [
        "print(data_accuracy_rf)"
      ],
      "metadata": {
        "colab": {
          "base_uri": "https://localhost:8080/"
        },
        "id": "nS1zlNuVrpMB",
        "outputId": "29e343cf-7a3d-4de5-a438-47e5cf41892f"
      },
      "execution_count": null,
      "outputs": [
        {
          "output_type": "stream",
          "name": "stdout",
          "text": [
            "1.0\n"
          ]
        }
      ]
    },
    {
      "cell_type": "code",
      "source": [
        "#For Support Vector Machines\n",
        "sv = SVC()\n",
        "sv_model = sv.fit(x_train,y_train)"
      ],
      "metadata": {
        "id": "oirHvVRUrsyE"
      },
      "execution_count": null,
      "outputs": []
    },
    {
      "cell_type": "code",
      "source": [
        "sv_model_prediction = sv.predict(x_test)"
      ],
      "metadata": {
        "id": "oUDMTkvOrzln"
      },
      "execution_count": null,
      "outputs": []
    },
    {
      "cell_type": "code",
      "source": [
        "data_accuracy_sv = accuracy_score(sv_model_prediction, y_test)"
      ],
      "metadata": {
        "id": "utyfBK2es7NY"
      },
      "execution_count": null,
      "outputs": []
    },
    {
      "cell_type": "code",
      "source": [
        "print(data_accuracy_sv)"
      ],
      "metadata": {
        "id": "mI07WnzztAFe"
      },
      "execution_count": null,
      "outputs": []
    }
  ]
}